{
 "cells": [
  {
   "cell_type": "markdown",
   "metadata": {
    "render": true
   },
   "source": [
    "# Incremental modeling with Decision Optimization\n",
    "\n",
    "This tutorial includes everything you need to set up Decision Optimization engines, build a mathematical programming model, then incrementally modify it.\n",
    "You will learn how to:\n",
    "- change coefficients in an expression\n",
    "- add terms in an expression\n",
    "- modify constraints and variables bounds\n",
    "- remove/add constraints\n",
    "- play with relaxations\n",
    "\n",
    "\n",
    "Table of contents:\n",
    "\n",
    "-  [Describe the business problem](#Describe-the-business-problem:--Games-Scheduling-in-the-National-Football-League)\n",
    "*  [How Decision Optimization (prescriptive analytics) can help](#How-Decision-Optimization-can-help)\n",
    "*  [Use Decision Optimization](#Use-Decision-Optimization)\n",
    "    *  [Step 1: Set up the prescriptive model](#Step-1:-Set-up-the-prescriptive-model)\n",
    "    *  [Step 2: Modify the model](#Step-2:-Modify-the-model)\n",
    "*  [Summary](#Summary)\n",
    "****"
   ]
  },
  {
   "cell_type": "markdown",
   "metadata": {
    "render": true
   },
   "source": [
    "## Describe the business problem:  Telephone production\n",
    "\n",
    "A possible descriptive model of the telephone production problem is as follows:\n",
    "* Decision variables:\n",
    "   * Number of desk phones produced (DeskProduction)\n",
    "   * Number of cellular phones produced (CellProduction)\n",
    "Objective: Maximize profit\n",
    "* Constraints:\n",
    "   * The DeskProduction should be greater than or equal to 100.\n",
    "   * The CellProduction should be greater than or equal to 100.\n",
    "   * The assembly time for DeskProduction plus the assembly time for CellProduction should not exceed 400 hours.\n",
    "   * The painting time for DeskProduction plus the painting time for CellProduction should not exceed 490 hours.\n",
    "\n",
    "This is a type of discrete optimization problem that can be solved by using either **Integer Programming** (IP) or **Constraint Programming** (CP). \n",
    "\n",
    ">  **Integer Programming** is the class of problems defined as the optimization of a linear function, subject to linear constraints over integer variables. \n",
    "\n",
    ">  **Constraint Programming** problems generally have discrete decision variables, but the constraints can be logical, and the arithmetic expressions are not restricted to being linear. \n",
    "\n",
    "For the purposes of this tutorial, we will illustrate a solution with mathematical programming (MP).  \n"
   ]
  },
  {
   "cell_type": "markdown",
   "metadata": {
    "render": true
   },
   "source": [
    "## How Decision Optimization can help\n",
    "\n",
    "* Prescriptive analytics (Decision Optimization) technology recommends actions that are based on desired outcomes.  It takes into account specific scenarios, resources, and knowledge of past and current events. With this insight, your organization can make better decisions and have greater control of business outcomes.  \n",
    "\n",
    "* Prescriptive analytics is the next step on the path to insight-based actions. It creates value through synergy with predictive analytics, which analyzes data to predict future outcomes.  \n",
    "\n",
    "* Prescriptive analytics takes that insight to the next level by suggesting the optimal way to handle that future situation. Organizations that can act fast in dynamic conditions and make superior decisions in uncertain environments gain a strong competitive advantage.  \n",
    "<br/>\n",
    "\n",
    "<u>With prescriptive analytics, you can:</u> \n",
    "\n",
    "* Automate the complex decisions and trade-offs to better manage your limited resources.\n",
    "* Take advantage of a future opportunity or mitigate a future risk.\n",
    "* Proactively update recommendations based on changing events.\n",
    "* Meet operational goals, increase customer loyalty, prevent threats and fraud, and optimize business processes.\n",
    "\n"
   ]
  },
  {
   "cell_type": "markdown",
   "metadata": {},
   "source": [
    "## Use Decision Optimization"
   ]
  },
  {
   "cell_type": "markdown",
   "metadata": {
    "render": true
   },
   "source": [
    "### Step 1: Set up the prescriptive model"
   ]
  },
  {
   "cell_type": "markdown",
   "metadata": {},
   "source": [
    "#### Writing a mathematical model\n",
    "Convert the descriptive model into a mathematical model:\n",
    "* Use the two decision variables DeskProduction and CellProduction\n",
    "* Use the data given in the problem description (remember to convert minutes to hours where appropriate)\n",
    "* Write the objective as a mathematical expression\n",
    "* Write the constraints as mathematical expressions (use “=”, “<=”, or “>=”, and name the constraints to describe their purpose)\n",
    "* Define the domain for the decision variables\n",
    "\n",
    "\n",
    "#### Telephone production: a mathematical model\n",
    "To express the last two constraints, we model assembly time and painting time as linear combinations of the two productions, resulting in the following mathematical model:\n",
    "\n",
    "```\n",
    "maximize:  12 desk_production+20 cell_production\n",
    "\n",
    "subject to:  \n",
    "   desk_production>=100  \n",
    "   cell_production>=100  \n",
    "   0.2 desk_production+0.4 cell_production<=400  \n",
    "   0.5 desk_production+0.4 cell_production<=490\n",
    "```"
   ]
  },
  {
   "cell_type": "code",
   "execution_count": null,
   "metadata": {},
   "outputs": [],
   "source": [
    "# first import the Model class from docplex.mp\n",
    "from docplex.mp.model import Model\n",
    "\n",
    "# create one model instance, with a name\n",
    "m = Model(name='telephone_production')"
   ]
  },
  {
   "cell_type": "markdown",
   "metadata": {
    "render": true
   },
   "source": [
    "The continuous variable desk represents the production of desk telephones.\n",
    "The continuous variable cell represents the production of cell phones."
   ]
  },
  {
   "cell_type": "code",
   "execution_count": null,
   "metadata": {},
   "outputs": [],
   "source": [
    "# by default, all variables in Docplex have a lower bound of 0 and infinite upper bound\n",
    "desk = m.integer_var(name='desk')\n",
    "cell = m.integer_var(name='cell')"
   ]
  },
  {
   "cell_type": "code",
   "execution_count": null,
   "metadata": {},
   "outputs": [],
   "source": [
    "m.maximize(12 * desk + 20 * cell)\n",
    "\n",
    "# write constraints\n",
    "# constraint #1: desk production is greater than 100\n",
    "m.add_constraint(desk >= 100, \"desk\")\n",
    "\n",
    "# constraint #2: cell production is greater than 100\n",
    "m.add_constraint(cell >= 100, \"cell\")\n",
    "\n",
    "# constraint #3: assembly time limit\n",
    "ct_assembly = m.add_constraint( 0.2 * desk + 0.4 * cell <= 400, \"assembly_limit\")\n",
    "\n",
    "# constraint #4: paiting time limit\n",
    "ct_painting = m.add_constraint( 0.5 * desk + 0.4 * cell <= 490, \"painting_limit\")"
   ]
  },
  {
   "cell_type": "markdown",
   "metadata": {
    "render": true
   },
   "source": [
    "#### Solve with Decision Optimization \n",
    "\n",
    "Depending on the size of the problem, the solve stage might fail and require the Commercial Edition of CPLEX engines, which is included in the premium environments in Watson Studio.\n",
    "\n",
    "You will get the best solution found after ***n*** seconds, because of a time limit parameter."
   ]
  },
  {
   "cell_type": "code",
   "execution_count": null,
   "metadata": {},
   "outputs": [],
   "source": [
    "m.print_information()\n",
    "msol = m.solve()"
   ]
  },
  {
   "cell_type": "code",
   "execution_count": null,
   "metadata": {},
   "outputs": [],
   "source": [
    "assert msol is not None, \"model can't solve\"\n",
    "m.print_solution()"
   ]
  },
  {
   "cell_type": "markdown",
   "metadata": {
    "render": true
   },
   "source": [
    "### Step 2: Modify the model"
   ]
  },
  {
   "cell_type": "markdown",
   "metadata": {},
   "source": [
    "#### Modify constraints and variables bounds"
   ]
  },
  {
   "cell_type": "markdown",
   "metadata": {},
   "source": [
    "The model object provides getters to retrieve variables and constraints by name:\n",
    "* get_var_by_name\n",
    "* get_constraint_by_name\n",
    "The variable and constraint objects both provide properties to access the right hand side (rhs) and left hand side (lhs).\n",
    "When you modify a rhs or lhs of a variable, you of course need to give a number.\n",
    "When you modify a rhs or lhs of a constraint, you can give a number or an expression based on variables.\n",
    "\n",
    "Imagine that you want to build 2000 cells and 1000 desks maximum.\n",
    "\n",
    "And you want to increase the production of both of them from 100 to 350"
   ]
  },
  {
   "cell_type": "code",
   "execution_count": null,
   "metadata": {},
   "outputs": [],
   "source": [
    "# Access by name\n",
    "m.get_var_by_name(\"desk\").ub = 2000\n",
    "# acess via the object\n",
    "cell.ub = 1000\n",
    "\n",
    "\n",
    "m.get_constraint_by_name(\"desk\").rhs = 350\n",
    "m.get_constraint_by_name(\"cell\").rhs = 350"
   ]
  },
  {
   "cell_type": "code",
   "execution_count": null,
   "metadata": {},
   "outputs": [],
   "source": [
    "msol = m.solve()\n",
    "assert msol is not None, \"model can't solve\"\n",
    "m.print_solution()"
   ]
  },
  {
   "cell_type": "markdown",
   "metadata": {},
   "source": [
    "The production plan has been updated accordingly to these small changes."
   ]
  },
  {
   "cell_type": "markdown",
   "metadata": {},
   "source": [
    "#### Modify expressions"
   ]
  },
  {
   "cell_type": "markdown",
   "metadata": {},
   "source": [
    "You now want to introduce a new type of product: the \"hybrid\" telephone."
   ]
  },
  {
   "cell_type": "code",
   "execution_count": null,
   "metadata": {},
   "outputs": [],
   "source": [
    "hybrid = m.integer_var(name='hybrid')"
   ]
  },
  {
   "cell_type": "markdown",
   "metadata": {},
   "source": [
    "You need to:\n",
    "- introduce it in the objective\n",
    "- introduce it in the existing painting and assembly time constraints \n",
    "- add a new constraint for its production to produce at least 350 of them."
   ]
  },
  {
   "cell_type": "code",
   "execution_count": null,
   "metadata": {},
   "outputs": [],
   "source": [
    "m.add_constraint(hybrid >= 350)\n",
    ";"
   ]
  },
  {
   "cell_type": "markdown",
   "metadata": {},
   "source": [
    "The objective will move from\n",
    "<code>\n",
    "maximize:  12 desk_production+20 cell_production\n",
    "</code>\n",
    "to\n",
    "<code>\n",
    "maximize:  12 desk_production+20 cell_production + 10 hybrid_prodction\n",
    "</code>"
   ]
  },
  {
   "cell_type": "code",
   "execution_count": null,
   "metadata": {},
   "outputs": [],
   "source": [
    "m.get_objective_expr().add_term(hybrid, 10)\n",
    ";"
   ]
  },
  {
   "cell_type": "markdown",
   "metadata": {},
   "source": [
    "The time constraints will be updated from \n",
    "<code>\n",
    "0.2 desk_production+0.4 cell_production<=400\n",
    "0.5 desk_production+0.4 cell_production<=490\n",
    "</code>\n",
    "to\n",
    "<code>\n",
    "0.2 desk_production+0.4 cell_production + 0.2 hybrid_production<=400\n",
    "0.5 desk_production+0.4 cell_production + 0.2 hybrid_production<=490\n",
    "</code>"
   ]
  },
  {
   "cell_type": "markdown",
   "metadata": {},
   "source": [
    "When you add a constraint to a model, its object is returned to you by the method add_constraint.\n",
    "If you don't have it, you can access it via its name"
   ]
  },
  {
   "cell_type": "code",
   "execution_count": null,
   "metadata": {},
   "outputs": [],
   "source": [
    "m.get_constraint_by_name(\"assembly_limit\").lhs.add_term(hybrid, 0.2)\n",
    "ct_painting.lhs.add_term(hybrid, 0.2)\n",
    ";"
   ]
  },
  {
   "cell_type": "markdown",
   "metadata": {},
   "source": [
    "You can now compute the new production plan for our 3 products"
   ]
  },
  {
   "cell_type": "code",
   "execution_count": null,
   "metadata": {},
   "outputs": [],
   "source": [
    "msol = m.solve()\n",
    "assert msol is not None, \"model can't solve\"\n",
    "m.print_solution()"
   ]
  },
  {
   "cell_type": "markdown",
   "metadata": {},
   "source": [
    "Now imagine that you have improved your painting process, the distribution of the coefficients in the painting limits is no longer [0.5, 0.4, 0.2] but [0.1, 0.1, 0.1]\n",
    "You can modify the coefficients, variable by variable, with set_coefficient or via a list of (variable, coeff) with set_coefficients"
   ]
  },
  {
   "cell_type": "code",
   "execution_count": null,
   "metadata": {},
   "outputs": [],
   "source": [
    "ct_painting.lhs.set_coefficients([(desk, 0.1), (cell, 0.1), (hybrid, 0.1)])"
   ]
  },
  {
   "cell_type": "code",
   "execution_count": null,
   "metadata": {},
   "outputs": [],
   "source": [
    "msol = m.solve()\n",
    "assert msol is not None, \"model can't solve\"\n",
    "m.print_solution()"
   ]
  },
  {
   "cell_type": "markdown",
   "metadata": {},
   "source": [
    "#### Relaxations"
   ]
  },
  {
   "cell_type": "markdown",
   "metadata": {},
   "source": [
    "Now introduce a new constraint: polishing time limit. "
   ]
  },
  {
   "cell_type": "code",
   "execution_count": null,
   "metadata": {},
   "outputs": [],
   "source": [
    "# constraint: polishing time limit\n",
    "ct_polishing = m.add_constraint( 0.6 * desk + 0.6 * cell + 0.3 * hybrid <= 290, \"polishing_limit\")"
   ]
  },
  {
   "cell_type": "code",
   "execution_count": null,
   "metadata": {
    "scrolled": true
   },
   "outputs": [],
   "source": [
    "msol = m.solve()\n",
    "if msol is None:\n",
    "    print(\"model can't solve\")"
   ]
  },
  {
   "cell_type": "markdown",
   "metadata": {},
   "source": [
    "The model is now infeasible. We need to handle it and dig into the infeasibilities."
   ]
  },
  {
   "cell_type": "markdown",
   "metadata": {},
   "source": [
    "You can now use the Relaxer object. You can control the way it will relax the constraints or you can use one of the various automatic modes:\n",
    "- 'all' relaxes all constraints using a MEDIUM priority; this is the default value.\n",
    "- 'named' relaxes all constraints with a user name but not the others.\n",
    "- 'match' looks for priority names within constraint names; unnamed constraints are not relaxed.\n",
    "\n",
    "Use the 'match' mode.\n",
    "Polishing constraint is mandatory.\n",
    "Painting constraint is a nice to have.\n",
    "Assembly constraint has low priority."
   ]
  },
  {
   "cell_type": "code",
   "execution_count": null,
   "metadata": {},
   "outputs": [],
   "source": [
    "ct_polishing.name = \"high_\"+ct_polishing.name\n",
    "ct_assembly.name = \"low_\"+ct_assembly.name\n",
    "ct_painting.name = \"medium_\"+ct_painting.name"
   ]
  },
  {
   "cell_type": "code",
   "execution_count": null,
   "metadata": {},
   "outputs": [],
   "source": [
    "# if a name contains \"low\", it has priority LOW\n",
    "# if a ct name contains \"medium\" it has priority MEDIUM\n",
    "# same for HIGH\n",
    "# if a constraint has no name or does not match any, it is not relaxable.\n",
    "from docplex.mp.relaxer import Relaxer\n",
    "relaxer = Relaxer(prioritizer='match', verbose=True)\n",
    "\n",
    "relaxed_sol = relaxer.relax(m)\n",
    "relaxed_ok = relaxed_sol is not None\n",
    "assert relaxed_ok, \"relaxation failed\"\n",
    "relaxer.print_information()"
   ]
  },
  {
   "cell_type": "code",
   "execution_count": null,
   "metadata": {},
   "outputs": [],
   "source": [
    "m.print_solution()"
   ]
  },
  {
   "cell_type": "code",
   "execution_count": null,
   "metadata": {},
   "outputs": [],
   "source": [
    "ct_polishing_relax = relaxer.get_relaxation(ct_polishing)\n",
    "print(\"* found slack of {0} for polish ct\".format(ct_polishing_relax))\n",
    "ct_polishing.rhs+= ct_polishing_relax\n",
    "m.solve()\n",
    "m.report()\n",
    "m.print_solution()"
   ]
  },
  {
   "cell_type": "markdown",
   "metadata": {},
   "source": [
    "## Summary\n",
    "\n",
    "\n",
    "You have learned how to set up and use the IBM Decision Optimization CPLEX Modeling for Python to formulate a Mathematical Programming model and modify it in various ways."
   ]
  },
  {
   "cell_type": "markdown",
   "metadata": {
    "render": true
   },
   "source": [
    "#### References\n",
    "* <a href=\"https://rawgit.com/IBMDecisionOptimization/docplex-doc/master/docs/index.html\" target=\"_blank\" rel=\"noopener noreferrer\">Decision Optimization CPLEX Modeling for Python documentation</a>\n",
    "* <a href=\"https://dataplatform.cloud.ibm.com/docs/content/wsj/getting-started/welcome-main.html?context=cpdaas\" target=\"_blank\" rel=\"noopener noreferrer\">IBM Cloud Pak for Data as a Service documentation</a>",
	"* <a href=\"https://dataplatform.cloud.ibm.com/docs/content/wsj/getting-started/welcome-main.html?context=wx\" target=\"_blank\" rel=\"noopener noreferrer\">IBM watsonx.ai documentation</a>\n"
   ]
  },
  {
   "cell_type": "markdown",
   "metadata": {},
   "source": [
    "<hr>\n",
    "Copyright © 2017-2023. This notebook and its source code are released under the terms of the MIT License."
   ]
  },
  {
   "cell_type": "markdown",
   "metadata": {},
   "source": [
    "<div style=\"background:#F5F7FA; height:110px; padding: 2em; font-size:14px;\">\n",
    "<span style=\"font-size:18px;color:#152935;\">Love this notebook? </span>\n",
    "<span style=\"font-size:15px;color:#152935;float:right;margin-right:40px;\">Don't have an account yet?</span><br>\n",
    "<span style=\"color:#5A6872;\">Share it with your colleagues and help them discover the power of Watson Studio!</span>\n",
    "<span style=\"border: 1px solid #3d70b2;padding:8px;float:right;margin-right:40px; color:#3d70b2;\"><a href=\"https://ibm.co/wsnotebooks\" target=\"_blank\" style=\"color: #3d70b2;text-decoration: none;\">Sign Up</a></span><br>\n",
    "</div>"
   ]
  }
 ],
 "metadata": {
  "kernelspec": {
   "display_name": "Python 3.10",
   "language": "python",
   "name": "python3"
  },
  "language_info": {
   "codemirror_mode": {
    "name": "ipython",
    "version": 3
   },
   "file_extension": ".py",
   "mimetype": "text/x-python",
   "name": "python",
   "nbconvert_exporter": "python",
   "pygments_lexer": "ipython3",
   "version": "3.10.9"
  }
 },
 "nbformat": 4,
 "nbformat_minor": 1
}
