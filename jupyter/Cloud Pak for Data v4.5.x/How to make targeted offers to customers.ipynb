{
 "cells": [
  {
   "cell_type": "markdown",
   "metadata": {},
   "source": [
    "# How to make targeted offers to customers?\n",
    "\n",
    "This tutorial includes everything you need to set up IBM Decision Optimization CPLEX Modeling for Python (DOcplex), build a Mathematical Programming model, and get its solution by solving the model with IBM ILOG CPLEX Optimizer.\n",
    "\n",
    "When you finish this tutorial, you'll have a foundational knowledge of _Prescriptive Analytics_.\n",
    "\n",
    ">This notebook is part of [Prescriptive Analytics for Python](http://ibmdecisionoptimization.github.io/docplex-doc/)\n",
    ">\n",
    ">It requires either an [installation of CPLEX Optimizers](http://ibmdecisionoptimization.github.io/docplex-doc/getting_started.html) or it can be run on [IBM Cloud Pak for Data as a Service](https://www.ibm.com/products/cloud-pak-for-data/as-a-service/) (Sign up for a [free IBM Cloud account](https://dataplatform.cloud.ibm.com/registration/stepone?context=wdp&apps=all>)\n",
    "and you can start using `IBM Cloud Pak for Data as a Service` right away).\n",
    ">\n",
    "> CPLEX is available on <i>IBM Cloud Pack for Data</i> and <i>IBM Cloud Pak for Data as a Service</i>:\n",
    ">    - <i>IBM Cloud Pak for Data as a Service</i>: Depends on the runtime used:\n",
    ">         - <i>IBM Runtime 22.x on Python 3.x</i> runtime: Community edition\n",
    ">         - <i>IBM DO Runtime 22.x on Python 3.x</i> runtime: full edition\n",
    ">    - <i>Cloud Pack for Data</i>: Community edition is installed by default. Please install `DO` addon in `Watson Studio Premium` for the full edition\n",
    "\n",
    "\n",
    "Table of contents:\n",
    "\n",
    "-  [Describe the business problem](#Describe-the-business-problem)\n",
    "*  [How decision optimization (prescriptive analytics) can help](#How-decision-optimization-can-help)\n",
    "*  [Prepare the data](#Prepare-the-data)\n",
    "*  [Use decision optimization](#Use-IBM-Decision-Optimization-CPLEX-Modeling-for-Python)\n",
    "    *  [Step 1: Import the library](#Step-1:-Import-the-library)\n",
    "    -  [Step 2: Set up the prescriptive model](#Step-2:-Set-up-the-prescriptive-model)\n",
    "        * [Define the decision variables](#Define-the-decision-variables)\n",
    "        * [Set up the constraints](#Set-up-the-constraints)\n",
    "        * [Express the objective](#Express-the-objective)\n",
    "        * [Solve the model](#Solve-the-model)\n",
    "    *  [Step 3: Analyze the solution and run an example analysis](#Step-3:-Analyze-the-solution)\n"
   ]
  },
  {
   "cell_type": "markdown",
   "metadata": {},
   "source": [
    "## Describe the business problem\n",
    "* The Self-Learning Response Model (SLRM) node enables you to build a model that you can continually update. Such updates are useful in building a model that assists with predicting which offers are most appropriate for customers and the probability of the offers being accepted. These sorts of models are most beneficial in customer relationship management, such as marketing applications or call centers.\n",
    "* This example is based on a fictional banking company. \n",
    "* The marketing department wants to achieve more profitable results in future campaigns by matching the right offer of financial services to each customer. \n",
    "* Specifically, the datascience department identified the characteristics of customers who are most likely to respond favorably based on previous offers and responses and to promote the best current offer based on the results and now need to compute the best offerig plan.\n",
    "<br>\n",
    "\n",
    "A set of business constraints have to be respected:\n",
    "\n",
    "* We have a limited budget to run a marketing campaign based on \"gifts\", \"newsletter\", \"seminar\"...\n",
    "* We want to determine which is the best way to contact the customers.\n",
    "* We need to identify which customers to contact."
   ]
  },
  {
   "cell_type": "markdown",
   "metadata": {},
   "source": [
    "## How decision optimization can help\n",
    "\n",
    "* Prescriptive analytics technology recommends actions based on desired outcomes, taking into account specific scenarios, resources, and knowledge of past and current events. This insight can help your organization make better decisions and have greater control of business outcomes.  \n",
    "\n",
    "* Prescriptive analytics is the next step on the path to insight-based actions. It creates value through synergy with predictive analytics, which analyzes data to predict future outcomes.  \n",
    "\n",
    "* Prescriptive analytics takes that insight to the next level by suggesting the optimal way to handle that future situation. Organizations that can act fast in dynamic conditions and make superior decisions in uncertain environments gain a strong competitive advantage.  \n",
    "<br/>\n",
    "\n",
    "+ For example:\n",
    "    + Automate complex decisions and trade-offs to better manage limited resources.\n",
    "    + Take advantage of a future opportunity or mitigate a future risk.\n",
    "    + Proactively update recommendations based on changing events.\n",
    "    + Meet operational goals, increase customer loyalty, prevent threats and fraud, and optimize business processes."
   ]
  },
  {
   "cell_type": "markdown",
   "metadata": {},
   "source": [
    "## Prepare the data\n",
    "\n",
    "The predictions show which offers a customer is most likely to accept, and the confidence that they will accept, depending on each customer’s details.\n",
    "\n",
    "For example:\n",
    "<code>(139987, \"Pension\", 0.13221, \"Mortgage\", 0.10675)</code> indicates that customer Id=139987 will certainly not buy a _Pension_ as the level is only 13.2%, \n",
    "whereas\n",
    "<code>(140030, \"Savings\", 0.95678, \"Pension\", 0.84446)</code> is more than likely to buy _Savings_ and a _Pension_ as the rates are 95.7% and 84.4%.\n",
    "\n",
    "This data is taken from a SPSS example, except that the names of the customers were modified.\n",
    "\n",
    "A Python data analysis library, [pandas](http://pandas.pydata.org), is used to store the data. Let's set up and declare the data."
   ]
  },
  {
   "cell_type": "code",
   "execution_count": null,
   "metadata": {},
   "outputs": [],
   "source": [
    "from pandas import DataFrame, Series\n",
    "\n",
    "names = {\n",
    "    139987 : \"Guadalupe J. Martinez\", 140030 : \"Michelle M. Lopez\", 140089 : \"Terry L. Ridgley\", \n",
    "    140097 : \"Miranda B. Roush\", 139068 : \"Sandra J. Wynkoop\", 139154 : \"Roland Guérette\", 139158 : \"Fabien Mailhot\", \n",
    "    139169 : \"Christian Austerlitz\", 139220 : \"Steffen Meister\", 139261 : \"Wolfgang Sanger\",\n",
    "    139416 : \"Lee Tsou\", 139422 : \"Sanaa' Hikmah Hakimi\", 139532 : \"Miroslav Škaroupka\", \n",
    "    139549 : \"George Blomqvist\", 139560 : \"Will Henderson\", 139577 : \"Yuina Ohira\", 139580 : \"Vlad Alekseeva\", \n",
    "    139636 : \"Cassio Lombardo\", 139647 : \"Trinity Zelaya Miramontes\", 139649 : \"Eldar Muravyov\", 139665 : \"Shu T'an\", \n",
    "    139667 : \"Jameel Abdul-Ghani Gerges\", 139696 : \"Zeeb Longoria Marrero\", 139752 : \"Matheus Azevedo Melo\", \n",
    "    139832 : \"Earl B. Wood\", 139859 : \"Gabrielly Sousa Martins\", 139881 : \"Franca Palermo\"}\n",
    "\n",
    "\n",
    "data = [(139987, \"Pension\", 0.13221, \"Mortgage\", 0.10675), (140030, \"Savings\", 0.95678, \"Pension\", 0.84446), (140089, \"Savings\", 0.95678, \"Pension\", 0.80233), \n",
    "                        (140097, \"Pension\", 0.13221, \"Mortgage\", 0.10675), (139068, \"Pension\", 0.80506, \"Savings\", 0.28391), (139154, \"Pension\", 0.13221, \"Mortgage\", 0.10675), \n",
    "                        (139158, \"Pension\", 0.13221, \"Mortgage\", 0.10675),(139169, \"Pension\", 0.13221, \"Mortgage\", 0.10675), (139220, \"Pension\", 0.13221, \"Mortgage\", 0.10675), \n",
    "                        (139261, \"Pension\", 0.13221, \"Mortgage\", 0.10675), (139416, \"Pension\", 0.13221, \"Mortgage\", 0.10675), (139422, \"Pension\", 0.13221, \"Mortgage\", 0.10675), \n",
    "                        (139532, \"Savings\", 0.95676, \"Mortgage\", 0.82269), (139549, \"Savings\", 0.16428, \"Pension\", 0.13221), (139560, \"Savings\", 0.95678, \"Pension\", 0.86779), \n",
    "                        (139577, \"Pension\", 0.13225, \"Mortgage\", 0.10675), (139580, \"Pension\", 0.13221, \"Mortgage\", 0.10675), (139636, \"Pension\", 0.13221, \"Mortgage\", 0.10675), \n",
    "                        (139647, \"Savings\", 0.28934, \"Pension\", 0.13221), (139649, \"Pension\", 0.13221, \"Mortgage\", 0.10675), (139665, \"Savings\", 0.95675, \"Pension\", 0.27248), \n",
    "                        (139667, \"Pension\", 0.13221, \"Mortgage\", 0.10675), (139696, \"Savings\", 0.16188, \"Pension\", 0.13221), (139752, \"Pension\", 0.13221, \"Mortgage\", 0.10675), \n",
    "                        (139832, \"Savings\", 0.95678, \"Pension\", 0.83426), (139859, \"Savings\", 0.95678, \"Pension\", 0.75925), (139881, \"Pension\", 0.13221, \"Mortgage\", 0.10675)]\n",
    "\n",
    "products = [\"Savings\", \"Mortgage\", \"Pension\"]\n",
    "product_value = [200, 300, 400]\n",
    "budget_share = [0.2, 0.5, 0.3]\n",
    "\n",
    "available_budget = 500\n",
    "channels =  DataFrame(data=[(\"gift\", 20.0, 0.20), (\"newsletter\", 15.0, 0.05), (\"seminar\", 23.0, 0.30)], columns=[\"name\", \"cost\", \"factor\"])\n",
    "channels.head(5)"
   ]
  },
  {
   "cell_type": "markdown",
   "metadata": {},
   "source": [
    "Offers are stored in a [pandas DataFrame](http://pandas.pydata.org/pandas-docs/stable/generated/pandas.DataFrame.html)."
   ]
  },
  {
   "cell_type": "code",
   "execution_count": null,
   "metadata": {},
   "outputs": [],
   "source": [
    "offers = DataFrame(data=data, index=range(0, len(data)), columns=[\"customerid\", \"Product1\", \"Confidence1\", \"Product2\", \"Confidence2\"])\n",
    "offers.insert(0,'name', Series(names[i[0]] for i in data))"
   ]
  },
  {
   "cell_type": "markdown",
   "metadata": {},
   "source": [
    "Let's customize the display of this data and show the confidence forecast for each customer."
   ]
  },
  {
   "cell_type": "code",
   "execution_count": null,
   "metadata": {},
   "outputs": [],
   "source": [
    "CSS = \"\"\"\n",
    "body {\n",
    "    margin: 0;\n",
    "    font-family: Helvetica;\n",
    "}\n",
    "table.dataframe {\n",
    "    border-collapse: collapse;\n",
    "    border: none;\n",
    "}\n",
    "table.dataframe tr {\n",
    "    border: none;\n",
    "}\n",
    "table.dataframe td, table.dataframe th {\n",
    "    margin: 0;\n",
    "    border: 1px solid white;\n",
    "    padding-left: 0.25em;\n",
    "    padding-right: 0.25em;\n",
    "}\n",
    "table.dataframe th:not(:empty) {\n",
    "    background-color: #fec;\n",
    "    text-align: left;\n",
    "    font-weight: normal;\n",
    "}\n",
    "table.dataframe tr:nth-child(2) th:empty {\n",
    "    border-left: none;\n",
    "    border-right: 1px dashed #888;\n",
    "}\n",
    "table.dataframe td {\n",
    "    border: 2px solid #ccf;\n",
    "    background-color: #f4f4ff;\n",
    "}\n",
    "    table.dataframe thead th:first-child {\n",
    "        display: none;\n",
    "    }\n",
    "    table.dataframe tbody th {\n",
    "        display: none;\n",
    "    }\n",
    "\"\"\""
   ]
  },
  {
   "cell_type": "code",
   "execution_count": null,
   "metadata": {},
   "outputs": [],
   "source": [
    "from IPython.core.display import HTML\n",
    "HTML('<style>{}</style>'.format(CSS))\n",
    "\n",
    "from IPython.display import display\n",
    "try: \n",
    "    display(offers.drop(columns='customerid').sort_values(by='name')) #Pandas >= 0.17\n",
    "except:\n",
    "    display(offers.drop(columns='customerid').sort('name')) #Pandas < 0.17"
   ]
  },
  {
   "cell_type": "markdown",
   "metadata": {},
   "source": [
    "## Use IBM Decision Optimization CPLEX Modeling for Python\n",
    "\n",
    "Let's create the optimization model to select the best ways to contact customers and stay within the limited budget."
   ]
  },
  {
   "cell_type": "markdown",
   "metadata": {},
   "source": [
    "### Step 1: Import the library\n",
    "\n",
    "Run the following code to import the Decision Optimization CPLEX Modeling library.  The *DOcplex* library contains the two modeling packages, Mathematical Programming (docplex.mp) and Constraint Programming (docplex.cp)."
   ]
  },
  {
   "cell_type": "code",
   "execution_count": null,
   "metadata": {},
   "outputs": [],
   "source": [
    "import sys\n",
    "try:\n",
    "    import docplex.mp\n",
    "except:\n",
    "    raise Exception('Please install docplex. See https://pypi.org/project/docplex/')"
   ]
  },
  {
   "cell_type": "markdown",
   "metadata": {},
   "source": [
    "If *cplex* is not installed, you can install CPLEX Community edition."
   ]
  },
  {
   "cell_type": "code",
   "execution_count": null,
   "metadata": {},
   "outputs": [],
   "source": [
    "try:\n",
    "    import cplex\n",
    "except:\n",
    "    raise Exception('Please install CPLEX. See https://pypi.org/project/cplex/')"
   ]
  },
  {
   "cell_type": "markdown",
   "metadata": {},
   "source": [
    "### Step 2: Set up the prescriptive model\n",
    "#### Create the model"
   ]
  },
  {
   "cell_type": "code",
   "execution_count": null,
   "metadata": {},
   "outputs": [],
   "source": [
    "from docplex.mp.model import Model\n",
    "\n",
    "mdl = Model(name=\"marketing_campaign\")\n",
    "mdl.round_solution = True  # make sure integer vars are automatically rounded"
   ]
  },
  {
   "cell_type": "markdown",
   "metadata": {},
   "source": [
    "#### Define the decision variables\n",
    "- The integer decision variables `channel_vars`, represent whether or not a customer will be made an offer for a particular product via a particular channel.\n",
    "- The integer decision variable `total_offers` represents the total number of offers made.\n",
    "- The continuous variable `budget_pent` represents the total cost of the offers made."
   ]
  },
  {
   "cell_type": "code",
   "execution_count": null,
   "metadata": {},
   "outputs": [],
   "source": [
    "offersR = range(0, len(offers))\n",
    "productsR = range(0, len(products))\n",
    "channelsR = range(0, len(channels))\n",
    "\n",
    "# names of channels\n",
    "channel_names = channels['name'].tolist()\n",
    "\n",
    "# this function is used to coin names for channel variables\n",
    "def name_chan_var(opch):\n",
    "    offer, p, ch = opch\n",
    "    return f\"ch_{offer}_{p}_{channel_names[ch]}\"\n",
    "\n",
    "channel_vars = mdl.binary_var_cube(offersR, productsR, channelsR, name=name_chan_var)\n",
    "total_offers = mdl.integer_var(name=\"total_offers\")\n",
    "budget_spent = mdl.continuous_var(name=\"spent\")\n",
    "\n",
    "def name_prod_budget(p):\n",
    "    return f\"product_budget_{products[p]}\"\n",
    "\n",
    "budget_per_product = mdl.continuous_var_list(productsR, name=name_prod_budget)\n",
    "\n",
    "mdl.print_information()"
   ]
  },
  {
   "cell_type": "markdown",
   "metadata": {},
   "source": [
    "#### Set up the constraints\n",
    "- Offer only one product per customer.\n",
    "- Compute the budget and set a maximum on it.\n",
    "- Compute the number of offers to be made."
   ]
  },
  {
   "cell_type": "code",
   "execution_count": null,
   "metadata": {},
   "outputs": [],
   "source": [
    "# Only 1 product is offered to each customer     \n",
    "mdl.add( mdl.sum(channel_vars[o,p,c] for p in productsR for c in channelsR) <= 1\n",
    "                   for o in offersR)\n",
    "\n",
    "# total offers is simply sum of channel vars\n",
    "mdl.add( total_offers == mdl.sum(channel_vars))\n",
    "\n",
    "# define per product budgets\n",
    "for p in productsR:\n",
    "    mdl.add(budget_per_product[p] == mdl.sum(channel_vars[o, p, c] * channels.at[c, \"cost\"]\n",
    "                                             for o in offersR\n",
    "                                             for c in channelsR))\n",
    "        \n",
    "mdl.add( budget_spent == mdl.sum(budget_per_product))\n",
    "\n",
    "# Balance the offers among products\n",
    "assert sum(budget_share) == 1  # shares equal 1\n",
    "for p in productsR:\n",
    "    mdl.add( mdl.sum(channel_vars[o,p,c] for o in offersR for c in channelsR) \n",
    "                       <= budget_share[p] * total_offers )\n",
    "            \n",
    "# Do not exceed the budget\n",
    "mdl.add_constraint( budget_spent  <= available_budget )  \n",
    "\n",
    "mdl.print_information()"
   ]
  },
  {
   "cell_type": "markdown",
   "metadata": {},
   "source": [
    "#### Express the objective\n",
    "\n",
    "We want to maximize the expected revenue."
   ]
  },
  {
   "cell_type": "code",
   "execution_count": null,
   "metadata": {},
   "outputs": [],
   "source": [
    "expected_p1 =     mdl.sum( channel_vars[idx,p,idx2] * c.factor * product_value[p]* o.Confidence1  \n",
    "            for p in productsR\n",
    "            for idx,o in offers[offers['Product1'] == products[p]].iterrows()  \n",
    "            for idx2, c in channels.iterrows())\n",
    "\n",
    "expected_p2 =     mdl.sum( channel_vars[idx,p,idx2] * c.factor * product_value[p]* o.Confidence2 \n",
    "            for p in productsR\n",
    "            for idx,o in offers[offers['Product2'] == products[p]].iterrows() \n",
    "            for idx2, c in channels.iterrows())\n",
    "\n",
    "\n",
    "mdl.maximize(expected_p1 + expected_p2)"
   ]
  },
  {
   "cell_type": "markdown",
   "metadata": {},
   "source": [
    "#### Define KPIs\n",
    "\n",
    "KPIs are numbers, computed to give insights, not necessarily used in the optimization process."
   ]
  },
  {
   "cell_type": "code",
   "execution_count": null,
   "metadata": {},
   "outputs": [],
   "source": [
    "for p in productsR:\n",
    "    mdl.add_kpi(budget_per_product[p], budget_per_product[p].name)\n",
    "    \n",
    "mdl.add_kpi(expected_p1, \"Expected P1 return\");\n",
    "mdl.add_kpi(expected_p2, \"Expected P2 return\");"
   ]
  },
  {
   "cell_type": "markdown",
   "metadata": {},
   "source": [
    "#### Solve the model\n",
    "\n",
    "If you're using a Community Edition of CPLEX runtimes, depending on the size of the problem, the solve stage may fail and will need a paying subscription or product installation."
   ]
  },
  {
   "cell_type": "code",
   "execution_count": null,
   "metadata": {},
   "outputs": [],
   "source": [
    "s = mdl.solve(log_output=True)\n",
    "assert s, \"No Solution !!!\""
   ]
  },
  {
   "cell_type": "code",
   "execution_count": null,
   "metadata": {},
   "outputs": [],
   "source": [
    "# print objectives and kpis\n",
    "mdl.report()"
   ]
  },
  {
   "cell_type": "markdown",
   "metadata": {},
   "source": [
    "### Step 3: Analyze the solution\n",
    "\n",
    "First, let's display the **Optimal Marketing Channel per customer**."
   ]
  },
  {
   "cell_type": "code",
   "execution_count": null,
   "metadata": {},
   "outputs": [],
   "source": [
    "report = [(channels.at[c, \"name\"], products[p], names[offers.at[o, \"customerid\"]]) \n",
    "          for c in channelsR \n",
    "          for p in productsR\n",
    "          for o in offersR  if abs(channel_vars[o,p,c].solution_value-1) <= 1e-6]\n",
    "\n",
    "assert len(report) == round(total_offers.solution_value)\n",
    "\n",
    "print(\"Marketing plan has {0} offers costing {1}\".format(total_offers.solution_value, budget_spent.solution_value))\n",
    "\n",
    "report_bd = DataFrame(report, columns=['channel', 'product', 'customer'])\n",
    "display(report_bd)"
   ]
  },
  {
   "cell_type": "markdown",
   "metadata": {},
   "source": [
    "\n",
    "Then let's **focus on seminar**."
   ]
  },
  {
   "cell_type": "code",
   "execution_count": null,
   "metadata": {},
   "outputs": [],
   "source": [
    "display(report_bd[report_bd['channel'] == \"seminar\"].drop(columns='channel'))"
   ]
  },
  {
   "cell_type": "markdown",
   "metadata": {},
   "source": [
    "\n",
    "## Summary\n",
    "\n",
    "\n",
    "You learned how to set up and use IBM Decision Optimization CPLEX Modeling for Python to formulate a Mathematical Programming model and solve it with CPLEX.\n"
   ]
  },
  {
   "cell_type": "markdown",
   "metadata": {
    "collapsed": true
   },
   "source": [
    "## References\n",
    "* [CPLEX Modeling for Python documentation](http://ibmdecisionoptimization.github.io/docplex-doc/)\n",
    "* [IBM Decision Optimization](https://www.ibm.com/analytics/decision-optimization)\n",
    "* Need help with DOcplex or to report a bug? Please go [here](https://stackoverflow.com/questions/tagged/docplex).\n",
    "* Contact us at dofeedback@wwpdl.vnet.ibm.com."
   ]
  },
  {
   "attachments": {},
   "cell_type": "markdown",
   "metadata": {},
   "source": [
    "Copyright &copy; 2017-2023 IBM. IPLA licensed Sample Materials."
   ]
  }
 ],
 "metadata": {
  "celltoolbar": "Dashboard",
  "gist_id": "6011986",
  "kernelspec": {
   "display_name": "Python 3.9",
   "language": "python",
   "name": "python3"
  },
  "language_info": {
   "codemirror_mode": {
    "name": "ipython",
    "version": 3
   },
   "file_extension": ".py",
   "mimetype": "text/x-python",
   "name": "python",
   "nbconvert_exporter": "python",
   "pygments_lexer": "ipython3",
   "version": "3.9.12"
  }
 },
 "nbformat": 4,
 "nbformat_minor": 1
}
