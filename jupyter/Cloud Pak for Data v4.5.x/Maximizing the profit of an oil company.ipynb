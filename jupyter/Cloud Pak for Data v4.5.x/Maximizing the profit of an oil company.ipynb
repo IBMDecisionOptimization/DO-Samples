{
 "cells": [
  {
   "cell_type": "markdown",
   "metadata": {},
   "source": [
    "# Maximizing the profit of an oil company\n",
    "\n",
    "This tutorial includes everything you need to set up the Decision Optimization engines and build mathematical programming models.\n",
    "\n",
    "Table of contents:\n",
    "\n",
    "-  [Describe the business problem](#Describe-the-business-problem)\n",
    "*  [How Decision Optimization (prescriptive analytics) can help](#How-Decision-Optimization-can-help)\n",
    "*  [Use Decision Optimization](#Use-Decision-Optimization)\n",
    "    -  [Step 1: Model the data](#Step-1:-Model-the-data)\n",
    "    *  [Step 2: Prepare the data](#Step-2:-Prepare-the-data)\n",
    "    -  [Step 3: Set up the prescriptive model](#Step-3:-Set-up-the-prescriptive-model)\n",
    "        * [Define the decision variables](#Define-the-decision-variables)\n",
    "        * [Express the business constraints](#Express-the-business-constraints)\n",
    "        * [Express the objective](#Express-the-objective)\n",
    "        * [Solve with Decision Optimization](#Solve-with-Decision-Optimization)\n",
    "    *  [Step 4: Investigate the solution and run an example analysis](#Step-4:-Investigate-the-solution-and-then-run-an-example-analysis)\n",
    "*  [Summary](#Summary)\n"
   ]
  },
  {
   "cell_type": "markdown",
   "metadata": {},
   "source": [
    "## Describe the business problem\n",
    "\n",
    "* An oil company manufactures different types of gasoline and diesel. Each type of gasoline is produced by blending different types of crude oils that must be purchased. The company must decide how much crude oil to buy in order to maximize its profit while respecting processing capacities and quality levels as well as satisfying customer demand.\n",
    "\n",
    "* Blending problems are a typical industry application of Linear Programming (LP). LP represents real life problems mathematically using an objective function to represent the goal that is to be minimized or maximized, together with a set of linear constraints which define the conditions to be satisfied and the limitations of the real life problem. The function and constraints are expressed in terms of decision variables and the solution, obtained from optimization engines such as IBM® ILOG® CPLEX®, provides the best values for these variables so that the objective function is optimized.\n",
    "\n",
    "* The oil-blending problem consists of calculating different blends of gasoline according to specific quality criteria.\n",
    "\n",
    "* Three types of gasoline are manufactured: super, regular, and diesel. \n",
    "\n",
    "* Each type of gasoline is produced by blending three types of crude oil: crude1, crude2, and crude3. \n",
    "\n",
    "* The gasoline must satisfy some quality criteria with respect to their lead content and their octane ratings, thus constraining the possible blendings.\n",
    "\n",
    "* The company must also satisfy its customer demand, which is 3,000 barrels a day of super, 2,000 of regular, and 1,000 of diesel. \n",
    "\n",
    "* The company can purchase 5,000 barrels of each type of crude oil per day and can process at most 14,000 barrels a day.\n",
    "\n",
    "* In addition, the company has the option of advertising a gasoline, in which case the demand for this type of gasoline increases by ten barrels for every dollar spent. \n",
    "\n",
    "* Finally, it costs four dollars to transform a barrel of oil into a barrel of gasoline."
   ]
  },
  {
   "cell_type": "markdown",
   "metadata": {},
   "source": [
    "## How Decision Optimization can help\n",
    "* Prescriptive analytics technology recommends actions based on desired outcomes, taking into account specific scenarios, resources, and knowledge of past and current events. This insight can help your organization make better decisions and have greater control of business outcomes.  \n",
    "\n",
    "* Prescriptive analytics is the next step on the path to insight-based actions. It creates value through synergy with predictive analytics, which analyzes data to predict future outcomes.  \n",
    "\n",
    "* Prescriptive analytics takes that insight to the next level by suggesting the optimal way to handle that future situation. Organizations that can act fast in dynamic conditions and make superior decisions in uncertain environments gain a strong competitive advantage.  \n",
    "<br/>\n",
    "\n",
    "+ For example:\n",
    "    + Automate complex decisions and trade-offs to better manage limited resources.\n",
    "    + Take advantage of a future opportunity or mitigate a future risk.\n",
    "    + Proactively update recommendations based on changing events.\n",
    "    + Meet operational goals, increase customer loyalty, prevent threats and fraud, and optimize business processes.\n"
   ]
  },
  {
   "cell_type": "markdown",
   "metadata": {},
   "source": [
    "## Use Decision Optimization"
   ]
  },
  {
   "cell_type": "markdown",
   "metadata": {},
   "source": [
    "### Step 1: Model the data\n",
    "\n",
    "* For each type of crude oil, there are capacities of what can be bought, the buying price, the octane level, and the lead level. \n",
    "* For each type of gasoline or diesel, there is customer demand, selling prices, and octane and lead levels.\n",
    "* There is a maximum level of production imposed by the factory's limit as well as a fixed production cost. \n",
    "* There are inventory costs for each type of final product and blending proportions. All of these have actual values in the model.\n",
    "\n",
    "* The marginal production cost and maximum production are assumed to be identical for all oil types.\n",
    "\n",
    "\n",
    "Input data comes as *NumPy* arrays with two dimensions. <a href=\"http://www.numpy.org/\" target=\"_blank\" rel=\"noopener noreferrer\">NumPy</a> is the fundamental package for scientific computing with Python."
   ]
  },
  {
   "cell_type": "markdown",
   "metadata": {},
   "source": [
    "The first dimension of the *NumPy* array is the number of gasoline types; \n",
    "and for each gasoline type, you have a *NumPy* array containing capacity, price, octane and lead level, in that order."
   ]
  },
  {
   "cell_type": "code",
   "execution_count": null,
   "metadata": {},
   "outputs": [],
   "source": [
    "import numpy as np\n",
    "\n",
    "gas_names = [\"super\", \"regular\", \"diesel\"]\n",
    "\n",
    "gas_data = np.array([[3000, 70, 10, 1], [2000, 60, 8, 2], [1000, 50, 6, 1]])\n",
    "\n",
    "oil_names = [\"crude1\", \"crude2\", \"crude3\"]\n",
    "\n",
    "oil_data = np.array([[5000, 45, 12, 0.5], [5000, 35, 6, 2], [5000, 25, 8, 3]])\n",
    "\n",
    "nb_gas  = len(gas_names)\n",
    "nb_oils = len(oil_names)\n",
    "range_gas = range(nb_gas)\n",
    "range_oil = range(nb_oils)\n",
    "print(\"Number of gasoline types = {0}\".format(nb_gas))\n",
    "print(\"Number of crude types = {0}\".format(nb_oils))\n",
    "\n",
    "# global data\n",
    "production_cost = 4\n",
    "production_max = 14000\n",
    "# each $1 spent on advertising increases demand by 10.\n",
    "advert_return = 10"
   ]
  },
  {
   "cell_type": "markdown",
   "metadata": {},
   "source": [
    "### Step 2: Prepare the data"
   ]
  },
  {
   "cell_type": "markdown",
   "metadata": {},
   "source": [
    "<a href=\"http://pandas.pydata.org/\" target=\"_blank\" rel=\"noopener noreferrer\">Pandas</a> is another Python library that is used to store data. *pandas* contains data structures and data analysis tools for the Python programming language."
   ]
  },
  {
   "cell_type": "code",
   "execution_count": null,
   "metadata": {},
   "outputs": [],
   "source": [
    "import pandas as pd\n",
    "gaspd = pd.DataFrame([(gas_names[i],int(gas_data[i][0]),int(gas_data[i][1]),int(gas_data[i][2]),int(gas_data[i][3])) \n",
    "                      for i in range_gas])\n",
    "oilpd = pd.DataFrame([(oil_names[i],int(oil_data[i][0]),int(oil_data[i][1]),int(oil_data[i][2]),oil_data[i][3]) \n",
    "                      for i in range_oil])\n",
    "gaspd.columns = ['name','demand','price','octane','lead']\n",
    "oilpd.columns= ['name','capacity','price','octane','lead']"
   ]
  },
  {
   "cell_type": "markdown",
   "metadata": {},
   "source": [
    "Use basic HTML and a stylesheet to format the data."
   ]
  },
  {
   "cell_type": "code",
   "execution_count": null,
   "metadata": {},
   "outputs": [],
   "source": [
    "CSS = \"\"\"\n",
    "body {\n",
    "    margin: 0;\n",
    "    font-family: Helvetica;\n",
    "}\n",
    "table.dataframe {\n",
    "    border-collapse: collapse;\n",
    "    border: none;\n",
    "}\n",
    "table.dataframe tr {\n",
    "    border: none;\n",
    "}\n",
    "table.dataframe td, table.dataframe th {\n",
    "    margin: 0;\n",
    "    border: 1px solid white;\n",
    "    padding-left: 0.25em;\n",
    "    padding-right: 0.25em;\n",
    "}\n",
    "table.dataframe th:not(:empty) {\n",
    "    background-color: #fec;\n",
    "    text-align: left;\n",
    "    font-weight: normal;\n",
    "}\n",
    "table.dataframe tr:nth-child(2) th:empty {\n",
    "    border-left: none;\n",
    "    border-right: 1px dashed #888;\n",
    "}\n",
    "table.dataframe td {\n",
    "    border: 2px solid #ccf;\n",
    "    background-color: #f4f4ff;\n",
    "}\n",
    "    table.dataframe thead th:first-child {\n",
    "        display: none;\n",
    "    }\n",
    "    table.dataframe tbody th {\n",
    "        display: none;\n",
    "    }\n",
    "\"\"\"\n",
    "\n",
    "from IPython.core.display import HTML\n",
    "HTML('<style>{}</style>'.format(CSS))"
   ]
  },
  {
   "cell_type": "markdown",
   "metadata": {},
   "source": [
    "Now display the data that you have just prepared."
   ]
  },
  {
   "cell_type": "code",
   "execution_count": null,
   "metadata": {
    "scrolled": true
   },
   "outputs": [],
   "source": [
    "from IPython.display import display\n",
    "print(\"Gas data:\")\n",
    "display(gaspd)\n",
    "print(\"Oil data:\")\n",
    "display(oilpd)"
   ]
  },
  {
   "cell_type": "markdown",
   "metadata": {},
   "source": [
    "### Step 4: Set up the prescriptive model\n",
    "\n",
    "#### Create the DOcplex model\n",
    "A model is needed to store all the variables and constraints needed to formulate the business problem and submit the problem to the solve service. Use the DOcplex Mathematical Programming (docplex.mp) modeling package."
   ]
  },
  {
   "cell_type": "code",
   "execution_count": null,
   "metadata": {},
   "outputs": [],
   "source": [
    "from docplex.mp.model import Model\n",
    "\n",
    "mdl = Model(name=\"oil_blending\")"
   ]
  },
  {
   "cell_type": "markdown",
   "metadata": {},
   "source": [
    "#### Define the decision variables\n",
    "\n",
    "For each combination of oil and gas, you must decide the quantity of oil to use to produce a gasoline. A decision variable is needed to represent that amount.\n\n",
    "A matrix of continuous variables, indexed by the set of oils and the set of gasolines is thus created.\n"
   ]
  },
  {
   "cell_type": "code",
   "execution_count": null,
   "metadata": {},
   "outputs": [],
   "source": [
    "blends = mdl.continuous_var_matrix(keys1=nb_oils, keys2=nb_gas, lb=0)"
   ]
  },
  {
   "cell_type": "markdown",
   "metadata": {},
   "source": [
    "You also need to decide how much should be spent in advertising for each type of gasoline. To do so, you will create a list of continuous variables, indexed by the gasolines."
   ]
  },
  {
   "cell_type": "code",
   "execution_count": null,
   "metadata": {},
   "outputs": [],
   "source": [
    "adverts = mdl.continuous_var_list(nb_gas, lb=0)"
   ]
  },
  {
   "cell_type": "markdown",
   "metadata": {},
   "source": [
    "#### Express the business constraints\n",
    "\n",
    "The business constraints are the following:\n",
    "\n",
    "* The demand for each gasoline type must be satisfied. The total demand includes the initial demand as stored in the data, plus a variable demand caused by the advertising. This increase is assumed to be proportional to the advertising cost.\n",
    "- The capacity constraint on each oil type must also be satisfied.\n",
    "- For each gasoline type, the octane level must be above a minimum level, and the lead level must be below a maximum level."
   ]
  },
  {
   "cell_type": "markdown",
   "metadata": {},
   "source": [
    "##### Demand\n",
    "\n",
    "+ For each gasoline type, the total quantity produced must equal the raw demand plus the demand increase created by the advertising."
   ]
  },
  {
   "cell_type": "code",
   "execution_count": null,
   "metadata": {},
   "outputs": [],
   "source": [
    "# gasoline demand is numpy array field #0\n",
    "mdl.add_constraints(mdl.sum(blends[o, g] for o in range(nb_oils)) == gas_data[g][0] + advert_return * adverts[g]\n",
    "                   for g in range(nb_gas))\n",
    "mdl.print_information()"
   ]
  },
  {
   "cell_type": "markdown",
   "metadata": {},
   "source": [
    "##### Maximum capacity\n",
    "\n",
    "+ For each type of oil, the total quantity used in all types of gasolines must not exceed the maximum capacity for this oil."
   ]
  },
  {
   "cell_type": "code",
   "execution_count": null,
   "metadata": {},
   "outputs": [],
   "source": [
    "mdl.add_constraints(mdl.sum(blends[o,g] for g in range_gas) <= oil_data[o][0]\n",
    "                    for o in range_oil)\n",
    "mdl.print_information()"
   ]
  },
  {
   "cell_type": "markdown",
   "metadata": {},
   "source": [
    "##### Octane and Lead levels\n",
    "+ For each gasoline type, the octane level must be above a minimum level, and the lead level must be below a maximum level."
   ]
  },
  {
   "cell_type": "code",
   "execution_count": null,
   "metadata": {},
   "outputs": [],
   "source": [
    "# minimum octane level\n",
    "# octane is numpy array field #2\n",
    "mdl.add_constraints(mdl.sum(blends[o,g]*(oil_data[o][2] - gas_data[g][2]) for o in range_oil) >= 0\n",
    "                   for g in range_gas)\n",
    "    \n",
    "# maximum lead  level\n",
    "# lead level is numpy array field #3 \n",
    "mdl.add_constraints(mdl.sum(blends[o,g]*(oil_data[o][3] - gas_data[g][3]) for o in range_oil) <= 0\n",
    "                   for g in range_gas)\n",
    "\n",
    "mdl.print_information()"
   ]
  },
  {
   "cell_type": "markdown",
   "metadata": {},
   "source": [
    "##### Maximum total production\n",
    "\n",
    "+ The total production must not exceed the maximum (here 14000)."
   ]
  },
  {
   "cell_type": "code",
   "execution_count": null,
   "metadata": {},
   "outputs": [],
   "source": [
    "# -- maximum global production\n",
    "mdl.add_constraint(mdl.sum(blends) <= production_max)\n",
    "\n",
    "mdl.print_information()"
   ]
  },
  {
   "cell_type": "markdown",
   "metadata": {},
   "source": [
    "#### Express the objective\n",
    "\n",
    "* The objective or goal is to maximize profit, which is made from sales of the final products minus total costs. The costs consist of the purchase cost of the crude oils, production costs, and inventory costs.\n",
    "- The model maximizes the net revenue, that is the revenue minus oil cost and production cost and advertising cost.\n",
    "- To define business objective, you can define a few KPIs :\n",
    "    * Total advertising cost\n",
    "    - Total Oil cost\n",
    "    - Total production cost\n",
    "    - Total revenue"
   ]
  },
  {
   "cell_type": "code",
   "execution_count": null,
   "metadata": {},
   "outputs": [],
   "source": [
    "# KPIs\n",
    "total_advert_cost = mdl.sum(adverts)\n",
    "mdl.add_kpi(total_advert_cost, \"Total advertising cost\")\n",
    "total_oil_cost = mdl.sum(blends[o,g] * oil_data[o][1] for o in range_oil for g in range_gas)\n",
    "mdl.add_kpi(total_oil_cost, \"Total Oil cost\")\n",
    "total_production_cost = production_cost * mdl.sum(blends)\n",
    "mdl.add_kpi(total_production_cost, \"Total production cost\")\n",
    "total_revenue = mdl.sum(blends[o,g] * gas_data[g][1] for g in range(nb_gas) for o in range(nb_oils))\n",
    "mdl.add_kpi(total_revenue, \"Total revenue\")\n",
    "\n",
    "# finally the objective\n",
    "mdl.maximize(total_revenue - total_oil_cost - total_production_cost - total_advert_cost)"
   ]
  },
  {
   "cell_type": "markdown",
   "metadata": {},
   "source": [
    "#### Solve with Decision Optimization\n",
    "\n",
    "Now display the objective and KPI values after the solve by calling the method report() on the model."
   ]
  },
  {
   "cell_type": "code",
   "execution_count": null,
   "metadata": {},
   "outputs": [],
   "source": [
    "assert mdl.solve(), \"Solve failed\"\n",
    "mdl.report()"
   ]
  },
  {
   "cell_type": "markdown",
   "metadata": {},
   "source": [
    "### Step 4: Investigate the solution and then run an example analysis\n",
    "\n",
    "#### Displaying the solution\n",
    "First, get the KPIs values and store them in a *pandas* DataFrame."
   ]
  },
  {
   "cell_type": "code",
   "execution_count": null,
   "metadata": {},
   "outputs": [],
   "source": [
    "all_kpis = [(kp.name, kp.compute()) for kp in mdl.iter_kpis()]\n",
    "kpis_bd = pd.DataFrame(all_kpis, columns=['kpi', 'value'])"
   ]
  },
  {
   "cell_type": "code",
   "execution_count": null,
   "metadata": {},
   "outputs": [],
   "source": [
    "blend_values = [ [ blends[o,g].solution_value for g in range_gas] for o in range_oil]\n",
    "total_gas_prods = [sum(blend_values[o][g] for o in range_oil) for g in range_gas]\n",
    "\n",
    "prods = list(zip(gas_names, total_gas_prods))\n",
    "prods_bd = pd.DataFrame(prods)"
   ]
  },
  {
   "cell_type": "markdown",
   "metadata": {},
   "source": [
    "Let's display some KPIs in pie charts using the Python package [*matplotlib*](http://matplotlib.org/)."
   ]
  },
  {
   "cell_type": "code",
   "execution_count": null,
   "metadata": {},
   "outputs": [],
   "source": [
    "%matplotlib inline\n",
    "import matplotlib.pyplot as plt\n",
    "def display_pie(pie_values, pie_labels, colors=None,title=''):\n",
    "    plt.axis(\"equal\")\n",
    "    plt.pie(pie_values, labels=pie_labels, colors=colors, autopct=\"%1.1f%%\")\n",
    "    plt.title(title)\n",
    "    plt.show()\n",
    "                                                           \n",
    "display_pie( [kpnv[1] for kpnv in all_kpis], [kpnv[0] for kpnv in all_kpis],title='KPIs: Revenue - Oil Cost - Production Cost')"
   ]
  },
  {
   "cell_type": "markdown",
   "metadata": {},
   "source": [
    "##### Production"
   ]
  },
  {
   "cell_type": "code",
   "execution_count": null,
   "metadata": {},
   "outputs": [],
   "source": [
    "display_pie(total_gas_prods, gas_names, colors=[\"green\", \"goldenrod\", \"lightGreen\"],title='Gasoline Total Production')"
   ]
  },
  {
   "cell_type": "markdown",
   "metadata": {},
   "source": [
    "You can see that the most produced gasoline type is by far regular.\n",
    "\n",
    "Now, plot the breakdown of oil blend quantities per gasoline type.\n",
    "A multiple bar chart diagram is used, displaying all blend values for each couple of oil and gasoline type."
   ]
  },
  {
   "cell_type": "code",
   "execution_count": null,
   "metadata": {},
   "outputs": [],
   "source": [
    "sblends = [(gas_names[n], oil_names[o], round(blends[o,n].solution_value)) for n in range_gas for o in range_oil]\n",
    "\n",
    "blends_bd = pd.DataFrame(sblends)"
   ]
  },
  {
   "cell_type": "code",
   "execution_count": null,
   "metadata": {},
   "outputs": [],
   "source": [
    "f, barplot = plt.subplots(1, figsize=(16,5))\n",
    "\n",
    "bar_width = 0.1\n",
    "offset = 0.12\n",
    "rho = 0.7\n",
    "\n",
    "# position of left-bar boundaries\n",
    "bar_l = [o for o in range_oil]\n",
    "\n",
    "mbar_w = 3*bar_width+2*max(0, offset-bar_width)\n",
    "\n",
    "tick_pos = [b*rho + mbar_w/2.0 for b in bar_l]\n",
    "\n",
    "colors = ['olive', 'lightgreen', 'cadetblue']\n",
    "\n",
    "for i in range_oil:\n",
    "    barplot.bar([b*rho + (i*offset) for b in bar_l], \n",
    "                blend_values[i], width=bar_width, color=colors[i], label=oil_names[i])\n",
    "\n",
    "plt.xticks(tick_pos, gas_names)\n",
    "barplot.set_xlabel(\"gasolines\")\n",
    "barplot.set_ylabel(\"blend\")\n",
    "plt.legend(loc=\"upper right\")\n",
    "plt.title('Blend Repartition\\n')\n",
    "                                                                          \n",
    "\n",
    "# Set a buffer around the edge\n",
    "plt.xlim([0, max(tick_pos)+mbar_w +0.5])\n",
    "\n",
    "plt.show()"
   ]
  },
  {
   "cell_type": "markdown",
   "metadata": {},
   "source": [
    "Notice the missing bar for (crude2, diesel) which is expected since blend[crude2, diesel] is zero in the solution.\n",
    "\n",
    "You can check the solution value of blends for *crude2* and *diesel*, remembering that crude2 has offset 1 and diesel has offset 2.\n\n",
    "Note how the decision variable is automatically converted to a float here. This would raise an exception if called before submitting a solve, as no solution value would be present."
   ]
  },
  {
   "cell_type": "code",
   "execution_count": null,
   "metadata": {},
   "outputs": [],
   "source": [
    "print(\"* value of blend[crude2, diesel] is %g\" % blends[1,2])"
   ]
  },
  {
   "cell_type": "markdown",
   "metadata": {},
   "source": [
    "## Summary\n",
    "\n",
    "\n",
    "You have learned how to set up and use IBM Decision Optimization CPLEX Modeling for Python to formulate a Mathematical Programming model and solve it with CPLEX."
   ]
  },
  {
   "cell_type": "markdown",
   "metadata": {
    "collapsed": true
   },
   "source": [
    "## References\n",
    "* <a href=\"https://rawgit.com/IBMDecisionOptimization/docplex-doc/master/docs/index.html\" target=\"_blank\" rel=\"noopener noreferrer\">Decision Optimization CPLEX Modeling for Python documentation</a>\n",
    "* <a href=\"https://www.ibm.com/docs/en/cloud-paks/cp-data/4.5.x\" target=\"_blank\" rel=\"noopener noreferrer\">IBM Cloud Pak for Data documentation</a>\n"
   ]
  },
  {
   "attachments": {},
   "cell_type": "markdown",
   "metadata": {},
   "source": [
    "<hr>\n",
    "Copyright © 2017-2024. This notebook and its source code are released under the terms of the MIT License."
   ]
  }
 ],
 "metadata": {
  "kernelspec": {
   "display_name": "Python 3",
   "language": "python",
   "name": "python3"
  },
  "language_info": {
   "codemirror_mode": {
    "name": "ipython",
    "version": 3
   },
   "file_extension": ".py",
   "mimetype": "text/x-python",
   "name": "python",
   "nbconvert_exporter": "python",
   "pygments_lexer": "ipython3",
   "version": "3.10.10"
  },
  "vscode": {
   "interpreter": {
    "hash": "a089cb22159220ec826aec10510e698f05a410454a86fdd6ee2b4620d63499d2"
   }
  }
 },
 "nbformat": 4,
 "nbformat_minor": 1
}
