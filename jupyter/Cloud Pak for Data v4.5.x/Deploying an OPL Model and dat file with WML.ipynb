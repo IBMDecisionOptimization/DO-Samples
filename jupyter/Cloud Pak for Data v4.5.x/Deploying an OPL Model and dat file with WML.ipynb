{
 "cells": [
  {
   "cell_type": "markdown",
   "metadata": {},
   "source": [
    "## Deploying an OPL model with Watson Machine Learning\n",
    "\n",
    "This notebook shows you how to deploy an OPL model, create and monitor jobs, and get solutions using the Watson Machine Learning Python Client.\n",
    "\n",
    "This notebook runs on Python."
   ]
  },
  {
   "cell_type": "markdown",
   "metadata": {},
   "source": [
    "## Table of Contents\n",
    "1. [Install the Watson Machine Learning client API](#setup)\n",
    "2. [Create a client instance](#create)\n",
    "3. [Prepare your model archive](#prepare)\n",
    "4. [Upload your model on Watson Machine Learning](#upload)\n",
    "5. [Create a deployment](#deploy)\n",
    "6. [Create and monitor a job with inline data for your deployed model](#job)\n",
    "7. [Summary](#summary)"
   ]
  },
  {
   "cell_type": "markdown",
   "metadata": {},
   "source": [
    "<a id='setup'></a>\n",
    "### Set up the Watson Machine Learning client"
   ]
  },
  {
   "cell_type": "markdown",
   "metadata": {},
   "source": [
    "Install and then import the Watson Machine Learning client library."
   ]
  },
  {
   "cell_type": "code",
   "execution_count": null,
   "metadata": {
    "scrolled": true
   },
   "outputs": [],
   "source": [
    "# Install WML client API\n",
    "\n",
    "!pip install ibm-watson-machine-learning"
   ]
  },
  {
   "cell_type": "code",
   "execution_count": null,
   "metadata": {},
   "outputs": [],
   "source": [
    "# Install simplejson to parse the example's json\n",
    "\n",
    "!pip install simplejson==3.17.6"
   ]
  },
  {
   "cell_type": "code",
   "execution_count": null,
   "metadata": {
    "scrolled": false
   },
   "outputs": [],
   "source": [
    "from ibm_watson_machine_learning import APIClient"
   ]
  },
  {
   "cell_type": "markdown",
   "metadata": {},
   "source": [
    "<a id='create'></a>\n",
    "### Create a client instance"
   ]
  },
  {
   "cell_type": "code",
   "execution_count": null,
   "metadata": {},
   "outputs": [],
   "source": [
    "# Instantiate a client using credentials\n",
    "\n",
    "cluster = \"<your_cluster>\"\n",
    "username = \"<username>\"\n",
    "password = \"<password>\"\n",
    "\n",
    "wml_credentials = {\n",
    "\"username\": username,\n",
    "\"password\": password,\n",
    "\"instance_id\" : \"wml_local\",\n",
    "\"url\": cluster,\n",
    "\"version\": \"4.5\"  \n",
    "}\n",
    "\n",
    "client = APIClient(wml_credentials)"
   ]
  },
  {
   "cell_type": "code",
   "execution_count": null,
   "metadata": {},
   "outputs": [],
   "source": [
    "client.version"
   ]
  },
  {
   "cell_type": "markdown",
   "metadata": {},
   "source": [
    "<a id='prepare'></a>\n",
    "### Prepare your model archive\n",
    "\n",
    "Use the `write_file` command to write these models to a `model.mod` file. \n",
    "\n",
    "Use the `tar` command to create a tar archive."
   ]
  },
  {
   "cell_type": "code",
   "execution_count": null,
   "metadata": {
    "scrolled": true
   },
   "outputs": [],
   "source": [
    "%mkdir model"
   ]
  },
  {
   "cell_type": "code",
   "execution_count": null,
   "metadata": {},
   "outputs": [],
   "source": [
    "%%writefile model.mod\n",
    "\n",
    "tuple TProduct {\n",
    "  key string name;\n",
    "  float demand;\n",
    "  float insideCost;\n",
    "  float outsideCost;\n",
    "};\n",
    "\n",
    "tuple TResource {\n",
    "  key string name;\n",
    "  float capacity;\n",
    "};\n",
    "\n",
    "tuple TConsumption {\n",
    "  key string productId;\n",
    "  key string resourceId;\n",
    "  float consumption; \n",
    "}\n",
    "\n",
    "{TProduct}     Products = ...;\n",
    "{TResource}    Resources = ...;\n",
    "{TConsumption} Consumptions = ...;\n",
    "\n",
    "/// solution\n",
    "tuple TPlannedProduction {\n",
    "  key string productId;\n",
    "  float insideProduction;\n",
    "  float outsideProduction; \n",
    "}\n",
    "\n",
    "/// variables.\n",
    "dvar float+ Inside [Products];\n",
    "dvar float+ Outside[Products];\n",
    "\n",
    "dexpr float totalInsideCost  = sum(p in Products)  p.insideCost * Inside[p];\n",
    "dexpr float totalOutsideCost = sum(p in Products)  p.outsideCost * Outside[p];\n",
    "\n",
    "minimize\n",
    "  totalInsideCost + totalOutsideCost;\n",
    "   \n",
    "subject to {\n",
    "  forall( r in Resources )\n",
    "    ctCapacity: \n",
    "      sum( k in Consumptions, p in Products \n",
    "           : k.resourceId == r.name && p.name == k.productId ) \n",
    "        k.consumption* Inside[p] <= r.capacity;\n",
    "\n",
    "  forall(p in Products)\n",
    "    ctDemand:\n",
    "      Inside[p] + Outside[p] >= p.demand;\n",
    "}\n",
    "\n",
    "{TPlannedProduction} plan = {<p.name, Inside[p], Outside[p]> | p in Products};\n",
    "\n",
    "// Display the production plann\n",
    "execute DISPLAY_PLAN {\n",
    "  for( var p in plan ) {\n",
    "    writeln(\"p[\",p.productId,\"] = \",p.insideProduction,\" inside, \", p.outsideProduction, \" outside.\");\n",
    "  }\n",
    "}"
   ]
  },
  {
   "cell_type": "code",
   "execution_count": null,
   "metadata": {},
   "outputs": [],
   "source": [
    "import tarfile\n",
    "def reset(tarinfo):\n",
    "    tarinfo.uid = tarinfo.gid = 0\n",
    "    tarinfo.uname = tarinfo.gname = \"root\"\n",
    "    return tarinfo\n",
    "tar = tarfile.open(\"model.tar.gz\", \"w:gz\")\n",
    "tar.add(\"model.mod\", arcname=\"model.mod\", filter=reset)\n",
    "tar.close()"
   ]
  },
  {
   "cell_type": "markdown",
   "metadata": {},
   "source": [
    "<a id='upload'></a>\n",
    "### Upload your model on Watson Machine Learning\n",
    "\n",
    "Store model in Watson Machine Learning with:\n",
    "* the tar archive previously created,\n",
    "* metadata including the model type and runtime\n",
    "\n",
    "Get the `model_uid`."
   ]
  },
  {
   "cell_type": "code",
   "execution_count": null,
   "metadata": {},
   "outputs": [],
   "source": [
    "# Find the space ID\n",
    "\n",
    "space_name = \"<space_name>\"\n",
    "\n",
    "space_id = [x['metadata']['id'] for x in client.spaces.get_details()['resources'] if x['entity']['name'] == space_name][0]\n",
    "\n",
    "client.set.default_space(space_id)"
   ]
  },
  {
   "cell_type": "code",
   "execution_count": null,
   "metadata": {},
   "outputs": [],
   "source": [
    "mnist_metadata = {\n",
    "    client.repository.ModelMetaNames.NAME: \"PastaProduction\",\n",
    "    client.repository.ModelMetaNames.DESCRIPTION: \"Model for OPL PastaProduction\",\n",
    "    client.repository.ModelMetaNames.TYPE: \"do-opl_20.1\",\n",
    "    client.repository.ModelMetaNames.SOFTWARE_SPEC_UID: client.software_specifications.get_uid_by_name(\"do_20.1\"),\n",
    "}\n",
    "\n",
    "model_details = client.repository.store_model(model='/home/wsuser/work/model.tar.gz', meta_props=mnist_metadata)\n",
    "\n",
    "model_uid = client.repository.get_model_id(model_details)"
   ]
  },
  {
   "cell_type": "markdown",
   "metadata": {},
   "source": [
    "<a id='deploy'></a>\n",
    "### Create a deployment \n",
    "\n",
    "Create a batch deployment for the model, providing information such as:\n",
    "* the maximum number of compute nodes\n",
    "* the T-shirt size of the compute nodes\n",
    "\n",
    "Get the `deployment_uid`."
   ]
  },
  {
   "cell_type": "code",
   "execution_count": null,
   "metadata": {
    "scrolled": true
   },
   "outputs": [],
   "source": [
    "meta_props = {\n",
    "    client.deployments.ConfigurationMetaNames.NAME: \"PastaProduction Deployment\",\n",
    "    client.deployments.ConfigurationMetaNames.DESCRIPTION: \"PastaProduction Deployment\",\n",
    "    client.deployments.ConfigurationMetaNames.BATCH: {},\n",
    "    client.deployments.ConfigurationMetaNames.HARDWARE_SPEC: {'name': 'S', 'num_nodes': 1}\n",
    "}\n",
    "\n",
    "deployment_details = client.deployments.create(model_uid, meta_props=meta_props)\n",
    "\n",
    "deployment_uid = client.deployments.get_uid(deployment_details)\n",
    "\n",
    "# print deployment id if needed\n",
    "# print( deployment_uid )"
   ]
  },
  {
   "cell_type": "code",
   "execution_count": null,
   "metadata": {
    "scrolled": false
   },
   "outputs": [],
   "source": [
    "# List all existing deployments\n",
    "\n",
    "client.deployments.list()"
   ]
  },
  {
   "cell_type": "markdown",
   "metadata": {},
   "source": [
    "<a id='job'></a>\n",
    "### Create and monitor a job with inline data for your deployed model\n",
    "\n",
    "Create a payload containing inline input data.\n",
    "\n",
    "Create a new job with this payload and the deployment.\n",
    "\n",
    "Get the `job_uid`."
   ]
  },
  {
   "cell_type": "code",
   "execution_count": null,
   "metadata": {},
   "outputs": [],
   "source": [
    "import base64\n",
    "\n",
    "sample_string = (\"Products = {\\n\" \n",
    "+ \"   <\\\"kluski\\\", 100, 0.6, 0.8>,\\n\" \n",
    "+ \"   <\\\"capellini\\\", 200,0.8, 0.9>,\\n\"\n",
    "+ \"   <\\\"fettucine\\\", 300, 0.3, 0.4>\\n\"\n",
    "+ \"};\\n\" \n",
    "+ \"Resources = {\\n\"\n",
    "+ \"   <\\\"flour\\\", 20>,\\n\"\n",
    "+ \"   <\\\"eggs\\\", 40>\\n\"\n",
    "+ \"};\\n\"\n",
    "+ \"Consumptions = {\\n\"\n",
    "+ \"   <\\\"kluski\\\", \\\"flour\\\", 0.5>,\\n\"\n",
    "+ \"   <\\\"kluski\\\", \\\"eggs\\\", 0.2>,\\n\"\n",
    "+ \"   <\\\"capellini\\\", \\\"flour\\\", 0.4>,\\n\"\n",
    "+ \"   <\\\"capellini\\\", \\\"eggs\\\", 0.4>,\\n\"\n",
    "+ \"   <\\\"fettucine\\\", \\\"flour\\\", 0.3>,\\n\"\n",
    "+ \"   <\\\"fettucine\\\", \\\"eggs\\\", 0.6>\\n\"\n",
    "+ \"};\")\n",
    "\n",
    "print( sample_string )\n",
    "sample_string_bytes = sample_string.encode(\"ascii\")\n",
    "  \n",
    "base64_bytes = base64.b64encode(sample_string_bytes)"
   ]
  },
  {
   "cell_type": "code",
   "execution_count": null,
   "metadata": {},
   "outputs": [],
   "source": [
    "solve_payload = {\n",
    "    \"solve_parameters\" : {\n",
    "                \"oaas.logAttachmentName\":\"log.txt\",\n",
    "                \"oaas.logTailEnabled\":\"true\",\n",
    "                \"oaas.resultsFormat\": \"csv\"\n",
    "            },\n",
    "    client.deployments.DecisionOptimizationMetaNames.INPUT_DATA: [\n",
    "        {\n",
    "            \"id\":\"T.dat\",\n",
    "            \"content\" : base64_bytes\n",
    "        }\n",
    "    ],\n",
    "    client.deployments.DecisionOptimizationMetaNames.OUTPUT_DATA: [\n",
    "    {\n",
    "        \"id\":\".*\\.csv\"\n",
    "    }\n",
    "    ]\n",
    "}\n",
    "job_details = client.deployments.create_job(deployment_uid, solve_payload)\n",
    "job_uid = client.deployments.get_job_uid(job_details)"
   ]
  },
  {
   "cell_type": "markdown",
   "metadata": {},
   "source": [
    "Display job status until it is completed.\n",
    "\n",
    "The first job of a new deployment might take some time as a compute node must be started."
   ]
  },
  {
   "cell_type": "code",
   "execution_count": null,
   "metadata": {},
   "outputs": [],
   "source": [
    "from time import sleep\n",
    "\n",
    "while job_details['entity']['decision_optimization']['status']['state'] not in ['completed', 'failed', 'canceled']:\n",
    "    print(job_details['entity']['decision_optimization']['status']['state'] + '...')\n",
    "    sleep(5)\n",
    "    job_details=client.deployments.get_job_details(job_uid)\n",
    "\n",
    "print( job_details['entity']['decision_optimization'])"
   ]
  },
  {
   "cell_type": "markdown",
   "metadata": {},
   "source": [
    "### Delete the deployment"
   ]
  },
  {
   "cell_type": "markdown",
   "metadata": {},
   "source": [
    "Use the following method to delete the deployment."
   ]
  },
  {
   "cell_type": "code",
   "execution_count": null,
   "metadata": {},
   "outputs": [],
   "source": [
    "client.deployments.delete(deployment_uid)"
   ]
  },
  {
   "cell_type": "markdown",
   "metadata": {},
   "source": [
    "<a id='summary'></a>\n",
    "### Summary and next steps"
   ]
  },
  {
   "cell_type": "markdown",
   "metadata": {},
   "source": [
    "You've successfully completed this notebook! \n",
    "\n",
    "You've learned how to:\n",
    "\n",
    "- work with the Watson Machine Learning client\n",
    "- prepare your model archive and upload your model on Watson Machine Learning\n",
    "- create a deployment\n",
    "- create and monitor a job with inline data for your deployed model\n",
    "\n",
    "Check out our online documentation at <a href=\"https://dataplatform.cloud.ibm.com/docs\" target=\"_blank\" rel=\"noopener noreferrer\">https://dataplatform.cloud.ibm.com/docs</a> for more samples, tutorials and documentation. "
   ]
  },
  {
   "cell_type": "markdown",
   "metadata": {},
   "source": [
    "<hr>\n",
    "Copyright © 2019, 2023. This notebook and its source code are released under the terms of the MIT License."
   ]
  }
 ],
 "metadata": {
  "kernelspec": {
   "display_name": "Python 3.10",
   "language": "python",
   "name": "python3"
  },
  "language_info": {
   "codemirror_mode": {
    "name": "ipython",
    "version": 3
   },
   "file_extension": ".py",
   "mimetype": "text/x-python",
   "name": "python",
   "nbconvert_exporter": "python",
   "pygments_lexer": "ipython3",
   "version": "3.10.6"
  }
 },
 "nbformat": 4,
 "nbformat_minor": 1
}
