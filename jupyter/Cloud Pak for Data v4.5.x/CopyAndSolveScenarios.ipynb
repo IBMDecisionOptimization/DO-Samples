{
 "cells": [
  {
   "cell_type": "markdown",
   "metadata": {},
   "source": [
    "To use this Notebook you have to import the StaffPlanning example (New Decision Optimization Model/From File)\n"
   ]
  },
  {
   "cell_type": "markdown",
   "metadata": {},
   "source": [
    "### Client\n",
    "\n",
    "Create a DODS client to connect to initial scenario."
   ]
  },
  {
   "cell_type": "code",
   "execution_count": null,
   "metadata": {},
   "outputs": [],
   "source": [
    "from decision_optimization_client import *\n",
    "\n",
    "client = Client()\n",
    "decision = client.get_experiment(name=\"StaffPlanning\")\n",
    "scenario = decision.get_scenario(name=\"Scenario 1\")\n"
   ]
  },
  {
   "cell_type": "markdown",
   "metadata": {},
   "source": [
    "### Global parameters\n",
    "\n",
    "The number of days and number of periods per day:"
   ]
  },
  {
   "cell_type": "code",
   "execution_count": null,
   "metadata": {},
   "outputs": [],
   "source": [
    "N_DAYS = 2\n",
    "N_PERIODS_PER_DAY = 24*4\n",
    "N_PERIODS = N_DAYS * N_PERIODS_PER_DAY"
   ]
  },
  {
   "cell_type": "markdown",
   "metadata": {},
   "source": [
    "### Random generator\n",
    "\n",
    "A method to generate the random demand for the given number of days and periods. "
   ]
  },
  {
   "cell_type": "code",
   "execution_count": null,
   "metadata": {},
   "outputs": [],
   "source": [
    "import random\n",
    "import numpy as np\n",
    "import pandas as pd\n",
    "\n",
    "def random_demand( b_size ):\n",
    "    rs = []\n",
    "    for d in range(N_DAYS):\n",
    "        # Morning\n",
    "        p1 = random.uniform(0.2, 0.4)\n",
    "        s1 = int(random.uniform(b_size*0.5, b_size*1.5))\n",
    "        rs.append(np.random.binomial(n=N_PERIODS_PER_DAY, p=p1, size=s1) + d*N_PERIODS_PER_DAY)\n",
    "        # Afternoon\n",
    "        p2 = random.uniform(0.6, 0.8)\n",
    "        s2 = int(random.uniform(b_size*0.5, b_size*1.5))\n",
    "        rs.append(np.random.binomial(n=N_PERIODS_PER_DAY, p=p2, size=s2) + d*N_PERIODS_PER_DAY)\n",
    "        # Rest of day\n",
    "        s3 = int(random.uniform(b_size*0.4, b_size*0.7))\n",
    "        e = np.array([ random.randint(int(d*N_PERIODS_PER_DAY + 0.2*N_PERIODS_PER_DAY), int(d*N_PERIODS_PER_DAY + 0.8*N_PERIODS_PER_DAY)) for i in range(s3) ])\n",
    "        #print(e)\n",
    "        rs.append(e)\n",
    "    #print(rs)\n",
    "    s = np.concatenate(rs)\n",
    "    #print(s)\n",
    "    g_arrivals = pd.DataFrame(data=s, columns=['value'])\n",
    "    _demands = [0 for i in range(0, N_PERIODS+1)]\n",
    "    for t in s:\n",
    "        _demands[t] = _demands[t] +1\n",
    "    demands = pd.DataFrame(data= [(t, _demands[t]) for t in range(N_PERIODS)], columns = ['period', 'demand'])\n",
    "    return demands\n"
   ]
  },
  {
   "cell_type": "markdown",
   "metadata": {},
   "source": [
    "The number of scenarios you want to generate and solve:"
   ]
  },
  {
   "cell_type": "code",
   "execution_count": null,
   "metadata": {},
   "outputs": [],
   "source": [
    "N_SCENARIOS = 5"
   ]
  },
  {
   "cell_type": "markdown",
   "metadata": {},
   "source": [
    "\n",
    "When copying the scenario, copy the input data, the model and the solution if any.\n",
    "\n",
    "Then attach new randomly generated data and solve.\n",
    "\n",
    "Grab the solution to perform some multi scenario reporting in this notebook."
   ]
  },
  {
   "cell_type": "code",
   "execution_count": null,
   "metadata": {},
   "outputs": [],
   "source": [
    "all_kpis = pd.DataFrame()\n",
    "\n",
    "for i in range(1, N_SCENARIOS+1):\n",
    "    sc_name = \"Copy %02d\" % (i)\n",
    "    print(sc_name)\n",
    "    copy = decision.get_scenario(name=sc_name)\n",
    "    if (copy != None):\n",
    "        print(\" Deleting old...\")\n",
    "        decision.delete_container(copy)\n",
    "    print(\" Copying from original scenario...\")    \n",
    "    copy = scenario.copy(sc_name)\n",
    "    print(\" Generating new demand...\")\n",
    "    df_demands = random_demand(200)\n",
    "    copy.add_table_data(\"demands\", df_demands, category='input')\n",
    "    print(\" Solving...\")\n",
    "    copy.solve()\n",
    "    print(\" Grabbing solution kpis...\")\n",
    "    kpis = copy.get_table_data('kpis')\n",
    "    kpis['scenario'] = sc_name\n",
    "    mk = [[ kpis.iloc[0]['Value'],  \"%02d\" % (kpis.iloc[1]['Value']), sc_name, \"%02d\" % (kpis.iloc[2]['Value'])]]\n",
    "    my_kpis = pd.DataFrame(data=mk, columns=['cost','fix','scenario','temp'])\n",
    "    copy.add_table_data('my_kpis', data=my_kpis, category='output')\n",
    "    all_kpis = all_kpis.append(kpis)\n",
    "    \n",
    "print(\"Done!\")"
   ]
  },
  {
   "cell_type": "markdown",
   "metadata": {},
   "source": [
    "### Reporting\n",
    "\n",
    "Display multi scenario comparison report."
   ]
  },
  {
   "cell_type": "code",
   "execution_count": null,
   "metadata": {},
   "outputs": [],
   "source": [
    "total_cost = all_kpis[all_kpis.Name=='Total Cost']"
   ]
  },
  {
   "cell_type": "code",
   "execution_count": null,
   "metadata": {},
   "outputs": [],
   "source": [
    "import matplotlib.pyplot as plt\n",
    "import matplotlib.colors as mcolors\n",
    "\n",
    "my_colors = mcolors.TABLEAU_COLORS\n",
    "\n",
    "plot = plt.figure(figsize=(20,5))\n",
    "\n",
    "plot = plt.bar(range(N_SCENARIOS),[total_cost.iloc[i]['Value'] for i in range(N_SCENARIOS)], width = 0.8, color = my_colors)\n",
    "plot = plt.xticks(range(N_SCENARIOS),[total_cost.iloc[i]['scenario'] for i in range(N_SCENARIOS)])\n",
    "\n",
    "labels = list(total_cost.iloc[i]['scenario'] for i in range(N_SCENARIOS))\n",
    "handles = [plt.Rectangle((0,0),1,1, color = my_colors[v_color]) for v_color in my_colors]\n",
    "plot = plt.legend(handles, labels, title = 'Scenario', loc = 'upper right', bbox_to_anchor=(1.1, 1))"
   ]
  },
  {
   "attachments": {},
   "cell_type": "markdown",
   "metadata": {},
   "source": [
    "Copyright &copy; 2017-2023 IBM. This notebook and its source code are released under the terms of the MIT License."
   ]
  }
 ],
 "metadata": {
  "kernelspec": {
   "display_name": "Python 3.9",
   "language": "python",
   "name": "python3"
  },
  "language_info": {
   "codemirror_mode": {
    "name": "ipython",
    "version": 3
   },
   "file_extension": ".py",
   "mimetype": "text/x-python",
   "name": "python",
   "nbconvert_exporter": "python",
   "pygments_lexer": "ipython3",
   "version": "3.9.12"
  }
 },
 "nbformat": 4,
 "nbformat_minor": 1
}
