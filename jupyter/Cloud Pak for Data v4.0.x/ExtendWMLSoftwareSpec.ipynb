{
 "cells": [
  {
   "cell_type": "markdown",
   "metadata": {
    "id": "afc913b0-43e6-4cdc-ab3b-d402ca49dbff"
   },
   "source": [
    "# Adding Software Specification to WML\n",
    "\n",
    "This notebook's goal is to showcase how you can extend WML's existing Software Specification and how it can be useful for your Decision Optimization experiment.\n",
    "\n",
    "In this example, a new Python package is added and used in the optimization model."
   ]
  },
  {
   "cell_type": "markdown",
   "metadata": {
    "id": "18686104-4158-4266-889a-0aa1bdd7985e"
   },
   "source": [
    "## Importing and instantiating WML\n",
    "\n",
    "The first step is to add WML to your notebook. It is not imported by default, so you will have to add it manually. To do so, you can use the following code:"
   ]
  },
  {
   "cell_type": "code",
   "execution_count": null,
   "metadata": {
    "id": "9b8b2098-0687-4345-968f-559f0784ca2f",
    "scrolled": false
   },
   "outputs": [],
   "source": [
    "from ibm_watson_machine_learning import APIClient"
   ]
  },
  {
   "cell_type": "markdown",
   "metadata": {
    "id": "2f32a1d5-7e4d-4ca1-8fce-fdfb26f72797"
   },
   "source": [
    "If you want to code on your own computer, you must install the WML client using pip. To do so, simply use the following command: `pip install ibm_watson_machine_learning`. This step, however, is not necessary when coding within a notebook created from the platform.\n",
    "\n",
    "Once imported, you will have to instantiate the WML client using your credentials, this is necessary in order to use it.\n",
    "\n",
    "To do so, use the WML's client constructor `APIClient(wml_credentials)` with a JSON `wml_credentials` describing all necessary information, that is:\n",
    "\n",
    "```\n",
    "wml_credentials = {\n",
    "   \"username\": \"<USERNAME>\",\n",
    "   \"password\": \"<PASSWORD>\"\n",
    "   \"instance_id\": \"<INSTANCE_ID>\", \n",
    "   \"url\" : \"<URL>\",\n",
    "   \"version\": \"<VERSION> (not mandatory)\n",
    "}\n",
    "```"
   ]
  },
  {
   "cell_type": "code",
   "execution_count": null,
   "metadata": {
    "id": "202d3dde-e5a1-40b8-bd26-2dd1f675004a"
   },
   "outputs": [],
   "source": [
    "# Instantiating WML's client using our credentials. Don't forget to change this part with your own credentials!\n",
    "# You might want to modify the instance_id, depending on where you are using this example\n",
    "cluster = '<YOUR_CLUSTER>'\n",
    "username = \"<USERNAME>\"\n",
    "password = \"<PASSWORD>\"\n",
    "\n",
    "wml_credentials = {\n",
    "\"username\": username,\n",
    "\"password\": password,\n",
    "\"instance_id\" : \"wml_local\",\n",
    "\"url\": cluster,\n",
    "\"version\": \"4.0\"  \n",
    "}\n",
    "\n",
    "client = APIClient(wml_credentials)"
   ]
  },
  {
   "cell_type": "markdown",
   "metadata": {
    "id": "0f843a59-47f1-4ec7-82c3-ec7d88ec2225"
   },
   "source": [
    "In order to work, WML must also be given what's called a `space`, that is, the place where to deploy your model to. You might already have created a few spaces. You can check if that is the case using the following code. It will display all the spaces that you have created that currently exist on the platform."
   ]
  },
  {
   "cell_type": "code",
   "execution_count": null,
   "metadata": {
    "id": "9ae118e9-1b56-4ddd-a1a3-2ab7b131cbde",
    "scrolled": false
   },
   "outputs": [],
   "source": [
    "def guid_from_space_name(client, space_name):\n",
    "     space = client.spaces.get_details()\n",
    "     return(next(item for item in space['resources'] if item['entity'][\"name\"] == space_name)['metadata']['id'])\n",
    "\n",
    "\n",
    "client.spaces.list()"
   ]
  },
  {
   "cell_type": "markdown",
   "metadata": {
    "id": "5aa57239-5b90-481d-9c54-6626f32602c5"
   },
   "source": [
    "You can then find one space that you wish to use, and execute the following code to tell WML to use it."
   ]
  },
  {
   "cell_type": "code",
   "execution_count": null,
   "metadata": {
    "id": "436ed6c6-2176-46d2-b0ca-e6d2e28bed49"
   },
   "outputs": [],
   "source": [
    "# Select a space from the list displayed above\n",
    "space_id = guid_from_space_name(client,\"xxx\")\n",
    "client.set.default_space(space_id)"
   ]
  },
  {
   "cell_type": "markdown",
   "metadata": {
    "id": "27a26f80-8069-46bf-ae16-304c2afca108"
   },
   "source": [
    "If you don't have any deployment spaces available. So you must create one and use it. To do so, simply use the following code:\n",
    "\n",
    "`client.set.default_space(meta_props={client.spaces.ConfigurationMetaNames.NAME: \"sample_space\"})[\"metadata\"][\"id\"]\")`"
   ]
  },
  {
   "cell_type": "markdown",
   "metadata": {
    "collapsed": true,
    "id": "5ef533ea-3cd1-403e-a503-a0c7ee06b653"
   },
   "source": [
    "## Creating a simple package extension\n",
    "\n",
    "For the purpose of this demonstration, you will create a very simple package extension that will install the pip package called `hello_demo`. Of course, feel free to replace that by whatever you might need.\n",
    "\n",
    "The first step is to write a small `yaml` file, here named `main.yml`, for this package extension, like so:"
   ]
  },
  {
   "cell_type": "code",
   "execution_count": null,
   "metadata": {
    "id": "1137d769-666f-40ff-a384-48efe9e18887"
   },
   "outputs": [],
   "source": [
    "%%writefile main.yml\n",
    "\n",
    "name: do_example\n",
    "channels:\n",
    "  - defaults\n",
    "dependencies:\n",
    "  - pip:\n",
    "    - hello_demo"
   ]
  },
  {
   "cell_type": "markdown",
   "metadata": {
    "id": "0bb1f910-58f9-4369-bf0b-344f54c61ef2"
   },
   "source": [
    "Once done, you can store it in the package extensions using `client.package_extensions.store(meta_props=meta_prop_pkg_ext, file_path=\"/home/wsuser/work/main.yml\")`\n",
    "\n",
    "You can also store the uid of the extension for later usage, using `client.package_extensions.get_uid()`"
   ]
  },
  {
   "cell_type": "code",
   "execution_count": null,
   "metadata": {
    "id": "014f6d6c-2d96-4759-869f-673915c0cb70"
   },
   "outputs": [],
   "source": [
    "# These first few lines, makes the name of the package unique using the current time\n",
    "import time\n",
    "current_time = time.asctime()\n",
    "\n",
    "meta_prop_pkg_ext = {\n",
    "     client.package_extensions.ConfigurationMetaNames.NAME: \"conda_ext_\" + current_time,\n",
    "     client.package_extensions.ConfigurationMetaNames.DESCRIPTION: \"Pkg extension for conda\",\n",
    "     client.package_extensions.ConfigurationMetaNames.TYPE: \"conda_yml\",\n",
    "}\n",
    "\n",
    "# Storing the package and saving it's uid\n",
    "pkg_ext_id = client.package_extensions.get_uid(client.package_extensions.store(meta_props=meta_prop_pkg_ext,\n",
    "                                         file_path=\"/home/wsuser/work/main.yml\"))\n"
   ]
  },
  {
   "cell_type": "markdown",
   "metadata": {
    "id": "11a422b0-4faa-4f8f-a954-2537fd4873c1"
   },
   "source": [
    "\n",
    "### Extend DO V20.1 existing software specification with the package extension created previously\n",
    "\n",
    "You now want to create a DO Model that is going to use the pip package from the package extension and use it. \n",
    "\n",
    "First of all, create a new model, and print the pip package version number. The model `main.py` will be:\n",
    "\n",
    "```\n",
    "import hello_demo\n",
    "\n",
    "print(\"hello_demo version: \" + hello_demo.__version__)\n",
    "```"
   ]
  },
  {
   "cell_type": "code",
   "execution_count": null,
   "metadata": {
    "id": "6a863b5b-94e6-4f01-9b91-30ed10be4c66",
    "scrolled": true
   },
   "outputs": [],
   "source": [
    "%mkdir -p model"
   ]
  },
  {
   "cell_type": "code",
   "execution_count": null,
   "metadata": {
    "id": "738e5969-e595-40c5-96d7-697d1b53b30b"
   },
   "outputs": [],
   "source": [
    "%%writefile model/main.py\n",
    "\n",
    "import hello_demo\n",
    "\n",
    "print(\"hello_demo version: \" + hello_demo.__version__)"
   ]
  },
  {
   "cell_type": "markdown",
   "metadata": {
    "id": "b52b25a7-a21b-4543-8174-625977cfb68d"
   },
   "source": [
    "You now need to compress the model directory you created with tar, so that it can be deployed in WML. That is what the next cell does."
   ]
  },
  {
   "cell_type": "code",
   "execution_count": null,
   "metadata": {
    "id": "77f0e29a-ef94-4c2d-94fa-78df4d3b7698"
   },
   "outputs": [],
   "source": [
    "# Creating a tar from the model you just created\n",
    "import tarfile\n",
    "def reset(tarinfo):\n",
    "    tarinfo.uid = tarinfo.gid = 0\n",
    "    tarinfo.uname = tarinfo.gname = \"root\"\n",
    "    return tarinfo\n",
    "tar = tarfile.open(\"model.tar.gz\", \"w:gz\")\n",
    "tar.add(\"model/main.py\", arcname=\"main.py\", filter=reset)\n",
    "tar.close()"
   ]
  },
  {
   "cell_type": "markdown",
   "metadata": {
    "id": "7e00ada4-bfd2-4824-a137-bc99fabf1220"
   },
   "source": [
    "Done! This model is ready for use! \n",
    "\n",
    "Since the model is using a custom pip package that is not available by default in DO V20.1, you need to extend its' software specifications.\n",
    "To do so, use the following code. It will create an extension to the current specifications of DO V20.1 and add the package you previously created, making the `hello_demo` package available to your model."
   ]
  },
  {
   "cell_type": "code",
   "execution_count": null,
   "metadata": {
    "id": "a1c3f016-f125-4ca9-81ca-24c73b04e103"
   },
   "outputs": [],
   "source": [
    "# Look for the do_20.1 software specification\n",
    "base_sw_id = client.software_specifications.get_uid_by_name(\"do_20.1\")\n",
    "\n",
    "# Create a new software specification using the default do_20.1 one as the base for it\n",
    "meta_prop_sw_spec = {\n",
    "    client.software_specifications.ConfigurationMetaNames.NAME: \"do_20.1_ext_\"+current_time,\n",
    "    client.software_specifications.ConfigurationMetaNames.DESCRIPTION: \"Software specification for DO example\",\n",
    "    client.software_specifications.ConfigurationMetaNames.BASE_SOFTWARE_SPECIFICATION: {\"guid\": base_sw_id}\n",
    "}\n",
    "sw_spec_id = client.software_specifications.get_uid(client.software_specifications.store(meta_props=meta_prop_sw_spec)) # Creating the new software specification\n",
    "client.software_specifications.add_package_extension(sw_spec_id, pkg_ext_id) # Adding the previously created package extension to it"
   ]
  },
  {
   "cell_type": "markdown",
   "metadata": {
    "id": "483d9afd-ac24-4e2f-af29-659968d389e9"
   },
   "source": [
    "Time to test everything! You can now store your model in WML, deploy it and then run it.\n",
    "\n",
    "When storing the model, that is where you must specify the new software specification to use, the one you just created. As you can see, you add the ID within the metadata used to store the model, in `client.repository.ModelMetaNames.SOFTWARE_SPEC_UID`"
   ]
  },
  {
   "cell_type": "code",
   "execution_count": null,
   "metadata": {
    "id": "d4699883-a00d-4588-b323-a2aef74a944a"
   },
   "outputs": [],
   "source": [
    "# Storing it with custom metadata, feel free to change this part...\n",
    "mnist_metadata = {\n",
    "    client.repository.ModelMetaNames.NAME: \"xxx\",\n",
    "    client.repository.ModelMetaNames.DESCRIPTION: \"xxx\",\n",
    "    client.repository.ModelMetaNames.TYPE: \"do-docplex_20.1\",\n",
    "    client.repository.ModelMetaNames.SOFTWARE_SPEC_UID: sw_spec_id    \n",
    "}\n",
    "\n",
    "model_details = client.repository.store_model(model='/home/wsuser/work/model.tar.gz', meta_props=mnist_metadata)\n",
    "\n",
    "model_uid = client.repository.get_model_uid(model_details)\n",
    "\n",
    "print(model_uid)"
   ]
  },
  {
   "cell_type": "code",
   "execution_count": null,
   "metadata": {
    "id": "bc94e7d7-ccab-49ec-904d-c6417dbd3707"
   },
   "outputs": [],
   "source": [
    "# Deploying the model\n",
    "meta_props = {\n",
    "    client.deployments.ConfigurationMetaNames.NAME: \"xxx\",\n",
    "    client.deployments.ConfigurationMetaNames.DESCRIPTION: \"xxx\",\n",
    "    client.deployments.ConfigurationMetaNames.BATCH: {},\n",
    "    client.deployments.ConfigurationMetaNames.HARDWARE_SPEC: {\"name\" : \"S\", \"num_nodes\":1 }\n",
    "}\n",
    "\n",
    "deployment_details = client.deployments.create(model_uid, meta_props=meta_props)\n",
    "deployment_uid = client.deployments.get_uid(deployment_details)\n",
    "\n",
    "print(deployment_uid)"
   ]
  },
  {
   "cell_type": "markdown",
   "metadata": {
    "id": "5653950a-a48c-4f49-81df-aec90bac0142"
   },
   "source": [
    "The next few cells create the WML job for this model and wait for it to be solved. Once solved, logs are displayed, where you should see the `hello_demo` version number."
   ]
  },
  {
   "cell_type": "code",
   "execution_count": null,
   "metadata": {
    "id": "f4b9a95d-f041-433f-a52f-45667cc175ef"
   },
   "outputs": [],
   "source": [
    "solve_payload = {\n",
    "    client.deployments.DecisionOptimizationMetaNames.SOLVE_PARAMETERS: {\n",
    "        \"oaas.logTailEnabled\":\"true\"\n",
    "    }\n",
    "}\n",
    "\n",
    "job_details = client.deployments.create_job(deployment_uid, solve_payload)\n",
    "job_uid = client.deployments.get_job_uid(job_details)\n",
    "\n",
    "print(job_uid)"
   ]
  },
  {
   "cell_type": "code",
   "execution_count": null,
   "metadata": {
    "id": "f61bcdf6-add7-4b55-9568-3e12a30f3fe8"
   },
   "outputs": [],
   "source": [
    "from time import sleep\n",
    "\n",
    "while job_details['entity']['decision_optimization']['status']['state'] not in ['completed', 'failed', 'canceled']:\n",
    "    print(job_details['entity']['decision_optimization']['status']['state'] + '...')\n",
    "    sleep(5)\n",
    "    job_details=client.deployments.get_job_details(job_uid)\n",
    "\n",
    "print( job_details['entity']['decision_optimization']['solve_state']['latest_engine_activity'])"
   ]
  },
  {
   "cell_type": "markdown",
   "metadata": {
    "id": "bb40c23e-9272-4424-8828-549826ad06bd"
   },
   "source": [
    "As you can see, it worked, there are no errors. Moreover, we can see that the version of the package has been successfully printed in the logs, confirming that is indeed installed. Without the added software specifications, the output of the run would have been: \"ModuleNotFoundError : No module named 'hello_demo'\"\n",
    "\n",
    "But, with the added software specification extension, this pip package is indeed installed, and we don't have this error message anymore."
   ]
  },
  {
   "cell_type": "markdown",
   "metadata": {
    "id": "2f4f33ab-daf1-4020-934c-615ed8a803ad"
   },
   "source": [
    "## Conclusion\n",
    "\n",
    "This example has shown you how to extend the software specification of DO V20.1 within WML and how it can be useful. That way, you can add even more custom code and use it within your model in a very simple manner, extending DO's capacity to fit your needs.\n"
   ]
  }
 ],
 "metadata": {
  "kernelspec": {
   "display_name": "Python 3.7",
   "language": "python",
   "name": "python3"
  },
  "language_info": {
   "codemirror_mode": {
    "name": "ipython",
    "version": 3
   },
   "file_extension": ".py",
   "mimetype": "text/x-python",
   "name": "python",
   "nbconvert_exporter": "python",
   "pygments_lexer": "ipython3",
   "version": "3.7.9"
  }
 },
 "nbformat": 4,
 "nbformat_minor": 1
}
