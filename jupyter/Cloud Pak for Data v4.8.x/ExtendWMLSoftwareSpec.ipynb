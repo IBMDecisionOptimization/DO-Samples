{
 "cells": [
  {
   "cell_type": "markdown",
   "metadata": {},
   "source": [
    "# Adding Software Specification to WML\n",
    "\n",
    "This notebook's goal is to showcase how you can extend WML's existing Software Specification and how it can be useful for your Decision Optimization experiment.\n",
    "\n",
    "In this example, a new Python package is added and used in the optimization model."
   ]
  },
  {
   "cell_type": "markdown",
   "metadata": {},
   "source": [
    "## Importing and instantiating WML\n",
    "\n",
    "The first step is to add WML to your notebook. It is not imported by default, so you will have to add it manually. To do so, you can use the following code:"
   ]
  },
  {
   "cell_type": "code",
   "execution_count": null,
   "metadata": {
    "scrolled": false
   },
   "outputs": [],
   "source": [
    "from ibm_watson_machine_learning import APIClient"
   ]
  },
  {
   "cell_type": "code",
   "execution_count": null,
   "metadata": {},
   "outputs": [],
   "source": [
    "# Instantiating WML's client using our credentials. Don't forget to change this part with your own credentials!\n",
    "# You might want to modify the instance_id, depending on where you are using this example\n",
    "cluster = \"<your_cluster>\"\n",
    "username = \"<username>\"\n",
    "password = \"<password>\"\n",
    "\n",
    "wml_credentials = {\n",
    "    \"username\": username,\n",
    "    \"password\": password,\n",
    "    \"instance_id\" : \"wml_local\",\n",
    "    \"url\": cluster,\n",
    "    \"version\": \"4.8\"\n",
    "}\n",
    "\n",
    "client = APIClient(wml_credentials)"
   ]
  },
  {
   "cell_type": "markdown",
   "metadata": {},
   "source": [
    "In order to work, WML must also be given what's called a `space`, that is, the place where to deploy your model to. You might already have created a few spaces. You can check if that is the case using the following code. It will display all the spaces that you have created that currently exist on the platform."
   ]
  },
  {
   "cell_type": "code",
   "execution_count": null,
   "metadata": {
    "scrolled": false
   },
   "outputs": [],
   "source": [
    "def guid_from_space_name(client, space_name):\n",
    "     space = client.spaces.get_details()\n",
    "     return(next(item for item in space['resources'] if item['entity'][\"name\"] == space_name)['metadata']['id'])\n",
    "\n",
    "\n",
    "client.spaces.list()"
   ]
  },
  {
   "cell_type": "markdown",
   "metadata": {},
   "source": [
    "You can then find one space that you wish to use, and execute the following code to tell WML to use it."
   ]
  },
  {
   "cell_type": "code",
   "execution_count": null,
   "metadata": {},
   "outputs": [],
   "source": [
    "# Select a space from the list displayed above\n",
    "space_id = guid_from_space_name(client,\"<space_name>\")\n",
    "client.set.default_space(space_id)"
   ]
  },
  {
   "cell_type": "markdown",
   "metadata": {
    "collapsed": true
   },
   "source": [
    "## Creating a simple package extension\n",
    "\n",
    "For the purpose of this demonstration, you will create a very simple package extension that will install the pip package called `hello_demo`. Of course, feel free to replace that by whatever you might need.\n",
    "\n",
    "The first step is to write a small `yaml` file, here named `main.yml`, for this package extension, like so:"
   ]
  },
  {
   "cell_type": "code",
   "execution_count": null,
   "metadata": {},
   "outputs": [],
   "source": [
    "%%writefile main.yml\n",
    "\n",
    "name: do_example\n",
    "channels:\n",
    "  - defaults\n",
    "dependencies:\n",
    "  - pip:\n",
    "    - hello_demo"
   ]
  },
  {
   "cell_type": "markdown",
   "metadata": {},
   "source": [
    "Once done, you can store it in the package extensions using `client.package_extensions.store(meta_props=meta_prop_pkg_ext, file_path=\"/home/wsuser/work/main.yml\")`\n",
    "\n",
    "You can also store the uid of the extension for later usage, using `client.package_extensions.get_uid()`"
   ]
  },
  {
   "cell_type": "code",
   "execution_count": null,
   "metadata": {},
   "outputs": [],
   "source": [
    "# These first few lines, makes the name of the package unique using the current time\n",
    "import time\n",
    "current_time = time.asctime()\n",
    "\n",
    "meta_prop_pkg_ext = {\n",
    "     client.package_extensions.ConfigurationMetaNames.NAME: \"conda_ext_\" + current_time,\n",
    "     client.package_extensions.ConfigurationMetaNames.DESCRIPTION: \"Pkg extension for conda\",\n",
    "     client.package_extensions.ConfigurationMetaNames.TYPE: \"conda_yml\",\n",
    "}\n",
    "\n",
    "# Storing the package and saving it's uid\n",
    "pkg_ext_id = client.package_extensions.get_uid(client.package_extensions.store(meta_props=meta_prop_pkg_ext,\n",
    "                                         file_path=\"/home/wsuser/work/main.yml\"))\n"
   ]
  },
  {
   "cell_type": "markdown",
   "metadata": {},
   "source": [
    "\n",
    "### Extend DO V22.1 existing software specification with the package extension created previously\n",
    "\n",
    "You now want to create a DO Model that is going to use the pip package from the package extension and use it. \n",
    "\n",
    "First of all, create a new model, and print the pip package version number. The model `main.py` will be:\n",
    "\n",
    "```\n",
    "import hello_demo\n",
    "\n",
    "print(\"hello_demo version: \" + hello_demo.__version__)\n",
    "```"
   ]
  },
  {
   "cell_type": "code",
   "execution_count": null,
   "metadata": {
    "scrolled": true
   },
   "outputs": [],
   "source": [
    "%mkdir -p model"
   ]
  },
  {
   "cell_type": "code",
   "execution_count": null,
   "metadata": {},
   "outputs": [],
   "source": [
    "%%writefile model/main.py\n",
    "\n",
    "import hello_demo\n",
    "\n",
    "print(\"hello_demo version: \" + hello_demo.__version__)"
   ]
  },
  {
   "cell_type": "markdown",
   "metadata": {},
   "source": [
    "You now need to compress the model directory you created with tar, so that it can be deployed in WML. That is what the next cell does."
   ]
  },
  {
   "cell_type": "code",
   "execution_count": null,
   "metadata": {},
   "outputs": [],
   "source": [
    "# Creating a tar from the model you just created\n",
    "import tarfile\n",
    "def reset(tarinfo):\n",
    "    tarinfo.uid = tarinfo.gid = 0\n",
    "    tarinfo.uname = tarinfo.gname = \"root\"\n",
    "    return tarinfo\n",
    "tar = tarfile.open(\"model.tar.gz\", \"w:gz\")\n",
    "tar.add(\"model/main.py\", arcname=\"main.py\", filter=reset)\n",
    "tar.close()"
   ]
  },
  {
   "cell_type": "markdown",
   "metadata": {},
   "source": [
    "Done! This model is ready for use! \n",
    "\n",
    "Since the model is using a custom pip package that is not available by default in DO V22.1, you need to extend its' software specifications.\n",
    "\n",
    "To do so, use the following code. It will create an extension to the current specifications of DO V22.1 and add the package you previously created, making the `hello_demo` package available to your model."
   ]
  },
  {
   "cell_type": "code",
   "execution_count": null,
   "metadata": {},
   "outputs": [],
   "source": [
    "# Look for the do_22.1 software specification\n",
    "base_sw_id = client.software_specifications.get_uid_by_name(\"do_22.1\")\n",
    "\n",
    "# Create a new software specification using the default do_22.1 one as the base for it\n",
    "meta_prop_sw_spec = {\n",
    "    client.software_specifications.ConfigurationMetaNames.NAME: \"do_22.1_ext_\"+current_time,\n",
    "    client.software_specifications.ConfigurationMetaNames.DESCRIPTION: \"Software specification for DO example\",\n",
    "    client.software_specifications.ConfigurationMetaNames.BASE_SOFTWARE_SPECIFICATION: {\"guid\": base_sw_id}\n",
    "}\n",
    "sw_spec_id = client.software_specifications.get_uid(client.software_specifications.store(meta_props=meta_prop_sw_spec)) # Creating the new software specification\n",
    "client.software_specifications.add_package_extension(sw_spec_id, pkg_ext_id) # Adding the previously created package extension to it"
   ]
  },
  {
   "cell_type": "markdown",
   "metadata": {},
   "source": [
    "Time to test everything! You can now store your model in WML, deploy it and then run it.\n",
    "\n",
    "When storing the model, that is where you must specify the new software specification to use, the one you just created. As you can see, you add the ID within the metadata used to store the model, in `client.repository.ModelMetaNames.SOFTWARE_SPEC_UID`"
   ]
  },
  {
   "cell_type": "code",
   "execution_count": null,
   "metadata": {},
   "outputs": [],
   "source": [
    "# Storing it with custom metadata, feel free to change this part...\n",
    "mnist_metadata = {\n",
    "    client.repository.ModelMetaNames.NAME: \"Extend WML software spec\",\n",
    "    client.repository.ModelMetaNames.DESCRIPTION: \"Model for extend WML software specification\",\n",
    "    client.repository.ModelMetaNames.TYPE: \"do-docplex_22.1\",\n",
    "    client.repository.ModelMetaNames.SOFTWARE_SPEC_UID: sw_spec_id    \n",
    "}\n",
    "\n",
    "model_details = client.repository.store_model(model='/home/wsuser/work/model.tar.gz', meta_props=mnist_metadata)\n",
    "\n",
    "model_uid = client.repository.get_model_id(model_details)\n",
    "\n",
    "print(model_uid)"
   ]
  },
  {
   "cell_type": "code",
   "execution_count": null,
   "metadata": {},
   "outputs": [],
   "source": [
    "# Deploying the model\n",
    "meta_props = {\n",
    "    client.deployments.ConfigurationMetaNames.NAME: \"Extend WML software spec deployment\",\n",
    "    client.deployments.ConfigurationMetaNames.DESCRIPTION: \"Extend WML software specification deployment\",\n",
    "    client.deployments.ConfigurationMetaNames.BATCH: {},\n",
    "    client.deployments.ConfigurationMetaNames.HARDWARE_SPEC: {\"name\" : \"S\", \"num_nodes\":1 }\n",
    "}\n",
    "\n",
    "deployment_details = client.deployments.create(model_uid, meta_props=meta_props)\n",
    "deployment_uid = client.deployments.get_uid(deployment_details)\n",
    "\n",
    "print(deployment_uid)"
   ]
  },
  {
   "cell_type": "markdown",
   "metadata": {},
   "source": [
    "The next few cells create the WML job for this model and wait for it to be solved. Once solved, logs are displayed, where you should see the `hello_demo` version number."
   ]
  },
  {
   "cell_type": "code",
   "execution_count": null,
   "metadata": {},
   "outputs": [],
   "source": [
    "solve_payload = {\n",
    "    client.deployments.DecisionOptimizationMetaNames.SOLVE_PARAMETERS: {\n",
    "        \"oaas.logTailEnabled\":\"true\"\n",
    "    }\n",
    "}\n",
    "\n",
    "job_details = client.deployments.create_job(deployment_uid, solve_payload)\n",
    "job_uid = client.deployments.get_job_uid(job_details)\n",
    "\n",
    "print(job_uid)"
   ]
  },
  {
   "cell_type": "code",
   "execution_count": null,
   "metadata": {},
   "outputs": [],
   "source": [
    "from time import sleep\n",
    "\n",
    "while job_details['entity']['decision_optimization']['status']['state'] not in ['completed', 'failed', 'canceled']:\n",
    "    print(job_details['entity']['decision_optimization']['status']['state'] + '...')\n",
    "    sleep(5)\n",
    "    job_details=client.deployments.get_job_details(job_uid)\n",
    "\n",
    "print( job_details['entity']['decision_optimization']['solve_state']['latest_engine_activity'])"
   ]
  },
  {
   "cell_type": "markdown",
   "metadata": {},
   "source": [
    "As you can see, it worked, there are no errors. Moreover, we can see that the version of the package has been successfully printed in the logs, confirming that is indeed installed. Without the added software specifications, the output of the run would have been: \"ModuleNotFoundError : No module named 'hello_demo'\"\n",
    "\n",
    "But, with the added software specification extension, this pip package is indeed installed, and we don't have this error message anymore."
   ]
  },
  {
   "cell_type": "markdown",
   "metadata": {},
   "source": [
    "## Conclusion\n",
    "\n",
    "This example has shown you how to extend the software specification of DO V22.1 within WML and how it can be useful. That way, you can add even more custom code and use it within your model in a very simple manner, extending DO's capacity to fit your needs.\n"
   ]
  },
  {
   "cell_type": "markdown",
   "metadata": {},
   "source": [
    "<hr>\n",
    "Copyright &copy; 2017-2023 IBM. This notebook and its source code are released under the terms of the MIT License."
   ]
  }
 ],
 "metadata": {
  "kernelspec": {
   "display_name": "Python 3.10",
   "language": "python",
   "name": "python3"
  },
  "language_info": {
   "codemirror_mode": {
    "name": "ipython",
    "version": 3
   },
   "file_extension": ".py",
   "mimetype": "text/x-python",
   "name": "python",
   "nbconvert_exporter": "python",
   "pygments_lexer": "ipython3",
   "version": "3.10.13"
  }
 },
 "nbformat": 4,
 "nbformat_minor": 1
}
