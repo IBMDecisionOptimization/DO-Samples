{
 "cells": [
  {
   "metadata": {},
   "cell_type": "markdown",
   "source": [
    "To use this Notebook:\n",
    "  - import the StaffPlanning example (New Decision Optimization Model/From File)\n",
    "  - generate the project token code (From the notebook menu, do \"Insert project token\")\n",
    "\n"
   ]
  },
  {
   "metadata": {},
   "cell_type": "code",
   "source": "!pip install --user decision_optimization_client\n",
   "execution_count": null,
   "outputs": []
  },
  {
   "metadata": {},
   "cell_type": "markdown",
   "source": [
    "### Client\n",
    "\n",
    "Create a DODS client to connect to initial scenario."
   ]
  },
  {
   "metadata": {},
   "cell_type": "code",
   "source": [
    "from decision_optimization_client import *\n",
    "\n",
    "# In order to use the solve() function, you must provide an API key when creating the client\n",
    "client = Client(pc=pc, apikey='IAM_APIKEY')\n",
    "decision = client.get_experiment(name=\"StaffPlanning\")\n",
    "scenario = decision.get_scenario(name=\"Scenario 1\")\n"
   ],
   "execution_count": null,
   "outputs": []
  },
  {
   "metadata": {},
   "cell_type": "markdown",
   "source": [
    "### Global parameters\n",
    "\n",
    "The number of days and number of periods per day:"
   ]
  },
  {
   "metadata": {},
   "cell_type": "code",
   "source": [
    "N_DAYS = 2\n",
    "N_PERIODS_PER_DAY = 24*4\n",
    "N_PERIODS = N_DAYS * N_PERIODS_PER_DAY"
   ],
   "execution_count": null,
   "outputs": []
  },
  {
   "metadata": {},
   "cell_type": "markdown",
   "source": [
    "### Random generator\n",
    "\n",
    "A method to generate the random demand for the given number of days and periods. "
   ]
  },
  {
   "metadata": {},
   "cell_type": "code",
   "source": [
    "import random\n",
    "import numpy as np\n",
    "import pandas as pd\n",
    "\n",
    "def random_demand( b_size ):\n",
    "    rs = []\n",
    "    for d in range(N_DAYS):\n",
    "        # Morning\n",
    "        p1 = random.uniform(0.2, 0.4)\n",
    "        s1 = int(random.uniform(b_size*0.5, b_size*1.5))\n",
    "        rs.append(np.random.binomial(n=N_PERIODS_PER_DAY, p=p1, size=s1) + d*N_PERIODS_PER_DAY)\n",
    "        # Afternoon\n",
    "        p2 = random.uniform(0.6, 0.8)\n",
    "        s2 = int(random.uniform(b_size*0.5, b_size*1.5))\n",
    "        rs.append(np.random.binomial(n=N_PERIODS_PER_DAY, p=p2, size=s2) + d*N_PERIODS_PER_DAY)\n",
    "        # Rest of day\n",
    "        s3 = int(random.uniform(b_size*0.4, b_size*0.7))\n",
    "        e = np.array([ random.randint(int(d*N_PERIODS_PER_DAY + 0.2*N_PERIODS_PER_DAY), int(d*N_PERIODS_PER_DAY + 0.8*N_PERIODS_PER_DAY)) for i in range(s3) ])\n",
    "        #print(e)\n",
    "        rs.append(e)\n",
    "    #print(rs)\n",
    "    s = np.concatenate(rs)\n",
    "    #print(s)\n",
    "    g_arrivals = pd.DataFrame(data=s, columns=['value'])\n",
    "    _demands = [0 for i in range(0, N_PERIODS+1)]\n",
    "    for t in s:\n",
    "        _demands[t] = _demands[t] +1\n",
    "    demands = pd.DataFrame(data= [(t, _demands[t]) for t in range(N_PERIODS)], columns = ['period', 'demand'])\n",
    "    return demands\n"
   ],
   "execution_count": null,
   "outputs": []
  },
  {
   "metadata": {},
   "cell_type": "markdown",
   "source": "The number of scenarios you want to generate and solve:"
  },
  {
   "metadata": {},
   "cell_type": "code",
   "source": "N_SCENARIOS = 5",
   "execution_count": null,
   "outputs": []
  },
  {
   "metadata": {},
   "cell_type": "markdown",
   "source": [
    "\n",
    "When copying the scenario, copy the input data, the model and the solution if any.\n",
    "\n",
    "Then attach new randomly generated data and solve.\n",
    "\n",
    "Grab the solution to perform some multi scenario reporting in this notebook."
   ]
  },
  {
   "metadata": {},
   "cell_type": "code",
   "source": [
    "all_kpis = pd.DataFrame()\n",
    "\n",
    "for i in range(1, N_SCENARIOS+1):\n",
    "    sc_name = \"Copy %02d\" % (i)\n",
    "    print(sc_name)\n",
    "    copy = decision.get_scenario(name=sc_name)\n",
    "    if (copy != None):\n",
    "        print(\" Deleting old...\")\n",
    "        decision.delete_container(copy)\n",
    "    print(\" Copying from original scenario...\")    \n",
    "    copy = scenario.copy(sc_name)\n",
    "    print(\" Generating new demand...\")\n",
    "    df_demands = random_demand(200)\n",
    "    copy.add_table_data(\"demands\", df_demands, category='input')\n",
    "    print(\" Solving...\")\n",
    "    copy.solve()\n",
    "    print(\" Grabbing solution kpis...\")\n",
    "    kpis = copy.get_table_data('kpis')\n",
    "    kpis['scenario'] = sc_name\n",
    "    mk = [[ kpis.iloc[0]['Value'],  \"%02d\" % (kpis.iloc[1]['Value']), sc_name, \"%02d\" % (kpis.iloc[2]['Value'])]]\n",
    "    my_kpis = pd.DataFrame(data=mk, columns=['cost','fix','scenario','temp'])\n",
    "    copy.add_table_data('my_kpis', data=my_kpis, category='output')\n",
    "    all_kpis = all_kpis.append(kpis)\n",
    "    \n",
    "print(\"Done!\")"
   ],
   "execution_count": null,
   "outputs": [
    {
     "output_type": "stream",
     "text": [
      "Copy 01\n",
      " Deleting old...\n",
      " Copying from original scenario...\n",
      " Generating new demand...\n",
      " Solving...\n",
      " Grabbing solution kpis...\n",
      "Copy 02\n",
      " Deleting old...\n",
      " Copying from original scenario...\n",
      " Generating new demand...\n",
      " Solving...\n",
      " Grabbing solution kpis...\n",
      "Copy 03\n",
      " Deleting old...\n",
      " Copying from original scenario...\n",
      " Generating new demand...\n",
      " Solving...\n",
      " Grabbing solution kpis...\n",
      "Copy 04\n",
      " Deleting old...\n",
      " Copying from original scenario...\n",
      " Generating new demand...\n",
      " Solving...\n",
      " Grabbing solution kpis...\n",
      "Copy 05\n",
      " Deleting old...\n",
      " Copying from original scenario...\n",
      " Generating new demand...\n",
      " Solving...\n",
      " Grabbing solution kpis...\n",
      "Done!\n"
     ],
     "name": "stdout"
    }
   ]
  },
  {
   "metadata": {},
   "cell_type": "markdown",
   "source": [
    "### Reporting\n",
    "\n",
    "Display multi scenario comparison report."
   ]
  },
  {
   "metadata": {},
   "cell_type": "code",
   "source": "total_cost = all_kpis[all_kpis.Name=='Total Cost']",
   "execution_count": null,
   "outputs": []
  },
  {
   "metadata": {},
   "cell_type": "code",
   "source": [
    "import matplotlib.pyplot as plt\n",
    "import matplotlib.colors as mcolors\n",
    "\n",
    "my_colors = mcolors.TABLEAU_COLORS\n",
    "\n",
    "plot = plt.figure(figsize=(20,5))\n",
    "\n",
    "plot = plt.bar(range(N_SCENARIOS),[total_cost.iloc[i]['Value'] for i in range(N_SCENARIOS)], width = 0.8, color = my_colors)\n",
    "plot = plt.xticks(range(N_SCENARIOS),[total_cost.iloc[i]['scenario'] for i in range(N_SCENARIOS)])\n",
    "\n",
    "labels = list(total_cost.iloc[i]['scenario'] for i in range(N_SCENARIOS))\n",
    "handles = [plt.Rectangle((0,0),1,1, color = my_colors[v_color]) for v_color in my_colors]\n",
    "plot = plt.legend(handles, labels, title = 'Scenario', loc = 'upper right', bbox_to_anchor=(1.1, 1))"
   ],
   "execution_count": null,
   "outputs": [
    {
     "output_type": "display_data",
     "data": {
      "text/plain": "<Figure size 1440x360 with 1 Axes>",
      "image/png": "[encoded data removed]"
     },
     "metadata": {
      "needs_background": "light"
     }
    }
   ]
  },
  {
   "metadata": {},
   "cell_type": "code",
   "source": "",
   "execution_count": null,
   "outputs": []
  },
  {
   "cell_type": "markdown",
   "metadata": {},
   "source": [
    "Copyright &copy; 2017-2022 IBM. This notebook and its source code are released under the terms of the MIT License."
   ]
  }
 ],
 "metadata": {
  "kernelspec": {
   "name": "python3",
   "display_name": "Python 3.7",
   "language": "python"
  },
  "language_info": {
   "name": "python",
   "version": "3.7.9",
   "mimetype": "text/x-python",
   "codemirror_mode": {
    "name": "ipython",
    "version": 3
   },
   "pygments_lexer": "ipython3",
   "nbconvert_exporter": "python",
   "file_extension": ".py"
  }
 },
 "nbformat": 4,
 "nbformat_minor": 1
}

