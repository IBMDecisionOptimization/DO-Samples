{
 "cells": [
  {
   "cell_type": "markdown",
   "metadata": {},
   "source": [
    "# The Unit Commitment Problem (UCP)\n",
    "\n",
    "This notebook is an example of how **Decision Optimization** can help to prescribe decisions for a complex constrained problem.\n",
    "\n",
    "Electricity providers are facing the problem of deciding **which power units** to run, in **which periods**  and at **what level** in order to satisfy the demand for electricity.  This problem is known as the Unit Commitment Problem.\n",
    "\n",
    "This tutorial includes everything you need to do to solve this problem from data preparation to what-if analysis.\n",
    "\n",
    "**Table of contents:**\n",
    "\n",
    "*  [The Unit Commitment Problem](#The-Unit-Commitment-Problem)\n",
    "*  [How Decision Optimization can help?](#How-Decision-Optimization-can-help)\n",
    "*  [Notebook overview](#Notebook-overview)\n",
    "*  [Prepare the data](#Prepare-the-data)\n",
    "*  [Formulate the optimization model](#Formulate-the-optimization-model)\n",
    "    * [Set-up the decision variables](#Set-up-the-optimization-model)\n",
    "    * [Define the decision variables](#Define-the-decision-variables)\n",
    "    * [Express the business constraints](#Express-the-business-constraints)\n",
    "    * [Express the objective](#Express-the-objective)\n",
    "* [Solve with optimization model and analyze the solution](#Solve-with-Decision-Optimization)\n",
    "* [Do some what-if analysis](#Do-some-what-if-analysis)\n",
    "* [Summary](#Summary)\n",
    "\n",
    "****"
   ]
  },
  {
   "cell_type": "markdown",
   "metadata": {},
   "source": [
    "## The Unit Commitment Problem\n",
    "\n",
    "The [Unit Commitment problem](https://en.wikipedia.org/wiki/Unit_commitment_problem_in_electrical_power_production) is a *\"family of problems where the production of a set of electrical generators is coordinated in order to achieve some common target, usually either to match the energy demand at minimum cost or to maximize revenues from energy production\"*.  \n",
    "\n",
    "The input of the problem is made of :\n",
    "* some **known data**, such as the characteristics of the generators (minimum and maximum capacity, ramp-up and down capacity (how much more or less the generator can produce from one period to the next), availability, fixed cost of operating the generator, variable cost of producing one unit of electricy per period, etc.).\n",
    "* some **uncertain data**, such as the electricity demand or the wind power generation, which is predicted using predictive models trained with historical data.\n",
    "\n",
    "The Unit Commitment Problem answers the question \"Which power generators should I run at which periods and at what level in order to satisfy the demand for electricity?\" \n",
    "\n",
    "Therefore, the decision variables are, for each period and each generation unit:\n",
    "* is the unit in use?\n",
    "* has the unit been switched on?\n",
    "* has the unit been switched off?\n",
    "* how much the unit produces?\n",
    "\n",
    "This model helps users to find not only a feasible answer to the question, but one that also optimizes its solution to meet as many of the electricity company's overall goals as possible. \n",
    "\n",
    "\n",
    "\n"
   ]
  },
  {
   "cell_type": "markdown",
   "metadata": {},
   "source": [
    "## How Decision Optimization can help\n",
    "\n",
    "Decision Optimization is one of the existing techniques to perform Prescriptive analytics and to recommend actions that are based on desired outcomes and business constraints.\n",
    "\n",
    "Decision Optimization problem-solving requires:\n",
    "* a **model**: some mathematical formulation of the business problem, where business constraints and objectives are expressed as mathematical statements,\n",
    "* some **input data** for the particular case to solve, including sound data and predicted data,\n",
    "* an optimization **engine** which will compute a solution for this input data and this optimization model formulation.\n",
    "\n",
    "It is also possible to interact with the optimization engine, and solve different versions of the optimization problem.\n",
    "With these different insights, your organization can make better decisions and have greater control of business outcomes.  \n",
    "\n",
    "Prescriptive analytics is the next step on the path to insight-based actions. It creates value through synergy with predictive analytics, which analyzes data to predict future outcomes.  \n"
   ]
  },
  {
   "cell_type": "markdown",
   "metadata": {},
   "source": [
    "## Notebook overview\n",
    "\n",
    "In this notebook:\n",
    "* the optimization model will be formulated using the *docplex.mp* package,\n",
    "* the data is created inline as panda dataframes\n",
    "* and the problem is solved using the IBM CPLEX optimizer  \n",
    "\n",
    "Both the *docplex* Python modeling API and the CPLEX optimizer are available in Watson Studio. \n",
    "\n"
   ]
  },
  {
   "cell_type": "markdown",
   "metadata": {},
   "source": [
    "Import some useful libraries (pandas, and matplotlib)"
   ]
  },
  {
   "cell_type": "code",
   "execution_count": null,
   "metadata": {},
   "outputs": [],
   "source": [
    "import pandas as pd\n",
    "from pandas import DataFrame, Series\n",
    "\n",
    "# make matplotlib plots appear inside the notebook\n",
    "import matplotlib.pyplot as plt\n",
    "%matplotlib inline\n",
    "from pylab import rcParams\n",
    "rcParams['figure.figsize'] = 20, 10 ############################ <-Use this to change the plot\n",
    "from IPython.core.display import HTML\n",
    "HTML(\"<style>.container { width:100%; }</style>\")"
   ]
  },
  {
   "cell_type": "markdown",
   "metadata": {},
   "source": [
    "## Prepare the data\n",
    "\n",
    "### Load data \n",
    "\n",
    "Data for the Unit Commitment Problem is provided as a *pandas* DataFrame.\n",
    "\n",
    "In this example notebook, the raw data is provided as Python collections, but real data could be loaded from some database."
   ]
  },
  {
   "cell_type": "markdown",
   "metadata": {},
   "source": [
    "### Available energy technologies\n",
    "\n",
    "The following *df_energy* DataFrame stores CO<sub>2</sub> cost information, indexed by energy type."
   ]
  },
  {
   "cell_type": "code",
   "execution_count": null,
   "metadata": {},
   "outputs": [],
   "source": [
    "energies = [\"coal\", \"gas\", \"diesel\", \"wind\"]\n",
    "df_energy = DataFrame({\"co2_cost\": [30, 5, 15, 0]}, index=energies)\n",
    "\n",
    "# Display the 'df_energy' Data Frame\n",
    "df_energy"
   ]
  },
  {
   "cell_type": "markdown",
   "metadata": {},
   "source": [
    "The following *df_units* DataFrame stores the different characteristics of the different generation units.\n",
    "\n",
    "The meaning of each of these characteristics is:\n",
    "* *energy*: the type of energy as per the previous data frame (used to select the right CO2 cost),\n",
    "* *initial*: the initial level of production as the beginning of the planning horizon,\n",
    "* *min_gen* and *max_gen*: the minimum and maximum level of production for this generator,\n",
    "* *operating_max_gen*: not used in this problem,\n",
    "* *min_uptime*: the minimum number of periods a generator must be in use after it is switched on,\n",
    "* *min_downtime*: the minimum number of periods a generator must be unused after it is switched off,\n",
    "* *ramp_up* and *ramp_down*: the maximum amount of generation a unit can increase or decrease from one period to the next,\n",
    "* *start_cost*: the fixed cost to start the unit,\n",
    "* *fixed_cost*: the fixed cost per period to operate the unit,\n",
    "* *variable_cost*: the variable cost per period to preoduce one unit of energy.\n",
    "\n",
    "Note that we are not considering any wind generati in this example data."
   ]
  },
  {
   "cell_type": "code",
   "execution_count": null,
   "metadata": {},
   "outputs": [],
   "source": [
    "all_units = [\"coal1\", \"coal2\", \n",
    "             \"gas1\", \"gas2\", \"gas3\", \"gas4\", \n",
    "             \"diesel1\", \"diesel2\", \"diesel3\", \"diesel4\"]\n",
    "             \n",
    "ucp_raw_unit_data = {\n",
    "        \"energy\": [\"coal\", \"coal\", \"gas\", \"gas\", \"gas\", \"gas\", \"diesel\", \"diesel\", \"diesel\", \"diesel\"],\n",
    "        \"initial\" : [400, 350, 205, 52, 155, 150, 78, 76, 0, 0],\n",
    "        \"min_gen\": [100, 140, 78, 52, 54.25, 39, 17.4, 15.2, 4, 2.4],\n",
    "        \"max_gen\": [425, 365, 220, 210, 165, 158, 90, 87, 20, 12],\n",
    "        \"operating_max_gen\": [400, 350, 205, 197, 155, 150, 78, 76, 20, 12],\n",
    "        \"min_uptime\": [15, 15, 6, 5, 5, 4, 3, 3, 1, 1],\n",
    "        \"min_downtime\":[9, 8, 7, 4, 3, 2, 2, 2, 1, 1],\n",
    "        \"ramp_up\":   [212, 150, 101.2, 94.8, 58, 50, 40, 60, 20, 12],\n",
    "        \"ramp_down\": [183, 198, 95.6, 101.7, 77.5, 60, 24, 45, 20, 12],\n",
    "        \"start_cost\": [5000, 4550, 1320, 1291, 1280, 1105, 560, 554, 300, 250],\n",
    "        \"fixed_cost\": [208.61, 117.37, 174.12, 172.75, 95.353, 144.52, 54.417, 54.551, 79.638, 16.259],\n",
    "        \"variable_cost\": [22.536, 31.985, 70.5, 69, 32.146, 54.84, 40.222, 40.522, 116.33, 76.642],\n",
    "        }\n",
    "\n",
    "df_units = DataFrame(ucp_raw_unit_data, index=all_units)\n",
    "\n",
    "# Display the 'df_units' Data Frame\n",
    "df_units"
   ]
  },
  {
   "cell_type": "markdown",
   "metadata": {},
   "source": [
    "### Prepare the data"
   ]
  },
  {
   "cell_type": "markdown",
   "metadata": {},
   "source": [
    "The *pandas* *merge* operation is used to create a join between the *df_units* and *df_energy* DataFrames. Here, the join is performed based on the *'energy'* column of *df_units* and index column of *df_energy*.\n",
    "\n",
    "By default, *merge* performs an *inner* join. That is, the resulting DataFrame is based on the **intersection** of keys from both input DataFrames."
   ]
  },
  {
   "cell_type": "code",
   "execution_count": null,
   "metadata": {},
   "outputs": [],
   "source": [
    "# Add a derived co2-cost column by merging with df_energies\n",
    "# Use energy key from units and index from energy dataframe\n",
    "df_up = pd.merge(df_units, df_energy, left_on=\"energy\", right_index=True)\n",
    "df_up.index.names=['units']\n",
    "\n",
    "# Display first rows of new 'df_up' Data Frame\n",
    "df_up.head()"
   ]
  },
  {
   "cell_type": "markdown",
   "metadata": {},
   "source": [
    "The demand is stored as a *pandas* _Series_ indexed from 1 to the number of periods."
   ]
  },
  {
   "cell_type": "code",
   "execution_count": null,
   "metadata": {},
   "outputs": [],
   "source": [
    "raw_demand = [1196,1193,1191,1193,1207,1243,1293,1337,1383,1411,1430,1440,1433,1437,1437,1431,\n",
    "              1414,1389,1363,1350,1357,1351,1329,1306,1289,1277,1264,1255,1257,1285,1328,1361,\n",
    "              1394,1417,1436,1440,1432,1434,1432,1422,1407,1386,1364,1354,1362,1356,1334,1310,\n",
    "              1289,1276,1264,1254,1256,1285,1327,1360,1394,1417,1436,1441,1433,1435,1433,1423,\n",
    "              1408,1388,1365,1355,1363,1357,1335,1311,1289,1277,1265,1255,1258,1286,1329,1362,\n",
    "              1396,1420,1439,1443,1435,1437,1435,1425,1410,1389,1367,1356,1364,1359,1336,1313,\n",
    "              1295,1281,1269,1264,1269,1294,1338,1368,1402,1427,1446,1448,1437,1439,1434,1422,\n",
    "              1411,1385,1358,1340,1345,1333,1307,1282,1259,1245,1231,1221,1216,1224,1236,1243,\n",
    "              1262,1280,1294,1302,1300,1294,1287,1279,1275,1265,1255,1246,1244,1235,1219,1199,\n",
    "              1184,1172,1163,1162,1158,1160,1164,1160,1174,1191,1205,1220,1227,1232,1235,1235,1233,1230,1217,1205,1207,1215,1211,1207]\n",
    "nb_periods = len(raw_demand)\n",
    "print(\"nb periods = {}\".format(nb_periods))\n",
    "\n",
    "demand = Series(raw_demand, index = range(1, nb_periods+1))\n",
    "\n",
    "# plot demand\n",
    "demand.plot(title=\"Demand\")"
   ]
  },
  {
   "cell_type": "markdown",
   "metadata": {},
   "source": [
    "## Formulate-the-optimization-model"
   ]
  },
  {
   "cell_type": "markdown",
   "metadata": {},
   "source": [
    "### Set up the optimization model\n",
    "Set up the prescriptive model using  Mathematical Programming (docplex.mp) modeling package."
   ]
  },
  {
   "cell_type": "code",
   "execution_count": null,
   "metadata": {},
   "outputs": [],
   "source": [
    "from docplex.mp.environment import Environment\n",
    "env = Environment()\n",
    "env.print_information()"
   ]
  },
  {
   "cell_type": "markdown",
   "metadata": {},
   "source": [
    "Create the model which will contain all the business constraints and objectives."
   ]
  },
  {
   "cell_type": "code",
   "execution_count": null,
   "metadata": {},
   "outputs": [],
   "source": [
    "from docplex.mp.model import Model\n",
    "\n",
    "ucpm = Model(\"ucp\")"
   ]
  },
  {
   "cell_type": "markdown",
   "metadata": {},
   "source": [
    "### Define the decision variables\n",
    "\n",
    "Decision variables are:\n",
    "\n",
    "- The variable *in_use[u,t]* is 1 if and only if unit _u_ is in use at period _t_.\n",
    "- The variable *turn_on[u,t]* is 1 if and only if unit _u_ is in switched on at period _t_.\n",
    "- The variable *turn_off[u,t]* is 1 if unit _u_ is switched off at period _t_.\n",
    "- The variable *production[u,t]* is a continuous variable representing the production of energy for unit _u_ at period _t_."
   ]
  },
  {
   "cell_type": "code",
   "execution_count": null,
   "metadata": {},
   "outputs": [],
   "source": [
    "units = all_units\n",
    "# periods range from 1 to nb_periods included\n",
    "periods = range(1, nb_periods+1)\n",
    "\n",
    "# in use[u,t] is true iff unit u is in production at period t\n",
    "in_use = ucpm.binary_var_matrix(keys1=units, keys2=periods, name=\"in_use\")\n",
    "\n",
    "# true if unit u is turned on at period t\n",
    "turn_on = ucpm.binary_var_matrix(keys1=units, keys2=periods, name=\"turn_on\")\n",
    "\n",
    "# true if unit u is switched off at period t\n",
    "# modeled as a continuous 0-1 variable, more on this later\n",
    "turn_off = ucpm.continuous_var_matrix(keys1=units, keys2=periods, lb=0, ub=1, name=\"turn_off\")\n",
    "\n",
    "# production of energy for unit u at period t\n",
    "production = ucpm.continuous_var_matrix(keys1=units, keys2=periods, name=\"p\")\n",
    "\n",
    "# at this stage you have defined the decision variables.\n",
    "ucpm.print_information()"
   ]
  },
  {
   "cell_type": "code",
   "execution_count": null,
   "metadata": {},
   "outputs": [],
   "source": [
    "# Organize all decision variables in a DataFrame indexed by 'units' and 'periods'\n",
    "df_decision_vars = DataFrame({'in_use': in_use, 'turn_on': turn_on, 'turn_off': turn_off, 'production': production})\n",
    "# Set index names\n",
    "df_decision_vars.index.names=['units', 'periods']\n",
    "\n",
    "# Display first few rows of 'df_decision_vars' DataFrame\n",
    "df_decision_vars.head()"
   ]
  },
  {
   "cell_type": "markdown",
   "metadata": {},
   "source": [
    "### Express the business constraints\n",
    "\n",
    "#### Linking in-use status to production\n",
    "\n",
    "Whenever a unit is in use, the production must be within the unit's minimum and maximum generation.\n"
   ]
  },
  {
   "cell_type": "code",
   "execution_count": null,
   "metadata": {},
   "outputs": [],
   "source": [
    "# Create a join between 'df_decision_vars' and 'df_up' Data Frames based on common index id (ie: 'units')\n",
    "# In 'df_up', one keeps only relevant columns: 'min_gen' and 'max_gen'\n",
    "df_join_decision_vars_up = df_decision_vars.join(df_up[['min_gen', 'max_gen']], how='inner')\n",
    "\n",
    "# Display first few rows of joined Data Frames\n",
    "df_join_decision_vars_up.head()"
   ]
  },
  {
   "cell_type": "code",
   "execution_count": null,
   "metadata": {},
   "outputs": [],
   "source": [
    "# When in use, the production level is constrained to be between min and max generation.\n",
    "for item in df_join_decision_vars_up.itertuples(index=False):\n",
    "    ucpm += (item.production <= item.max_gen * item.in_use)\n",
    "    ucpm += (item.production >= item.min_gen * item.in_use)"
   ]
  },
  {
   "cell_type": "markdown",
   "metadata": {},
   "source": [
    "#### Initial state\n",
    "The solution must take into account the initial state. The initial state of use of a unit is determined by its initial production level."
   ]
  },
  {
   "cell_type": "code",
   "execution_count": null,
   "metadata": {},
   "outputs": [],
   "source": [
    "# Initial state\n",
    "# If initial production is nonzero, then period #1 is not a turn_on\n",
    "# else turn_on equals in_use\n",
    "# Dual logic is implemented for turn_off\n",
    "for u in units:\n",
    "    if df_up.initial[u] > 0:\n",
    "        # if u is already running, not starting up\n",
    "        ucpm.add_constraint(turn_on[u, 1] == 0)\n",
    "        # turnoff iff not in use\n",
    "        ucpm.add_constraint(turn_off[u, 1] + in_use[u, 1] == 1)\n",
    "    else:\n",
    "        # turn on at 1 iff in use at 1\n",
    "        ucpm.add_constraint(turn_on[u, 1] == in_use[u, 1])\n",
    "        # already off, not switched off at t==1\n",
    "        ucpm.add_constraint(turn_off[u, 1] == 0)\n",
    "ucpm.print_information()"
   ]
  },
  {
   "cell_type": "markdown",
   "metadata": {},
   "source": [
    "#### Ramp-up / ramp-down constraint\n",
    "Variations of the production level over time in a unit is constrained by a ramp-up / ramp-down process.\n",
    "\n",
    "Use the *pandas* *groupby* operation to collect all decision variables for each unit in separate series. Then, iterate over units to post constraints enforcing the ramp-up / ramp-down process by setting upper bounds on the variation of the production level for consecutive periods."
   ]
  },
  {
   "cell_type": "code",
   "execution_count": null,
   "metadata": {},
   "outputs": [],
   "source": [
    "# Use groupby operation to process each unit\n",
    "for unit, r in df_decision_vars.groupby(level='units'):\n",
    "    u_ramp_up = df_up.ramp_up[unit]\n",
    "    u_ramp_down = df_up.ramp_down[unit]\n",
    "    u_initial = df_up.initial[unit]\n",
    "    # Initial ramp up/down\n",
    "    # Note that r.production is a Series that can be indexed as an array (ie: first item index = 0)\n",
    "    ucpm.add_constraint(r.production[0] - u_initial <= u_ramp_up)\n",
    "    ucpm.add_constraint(u_initial - r.production[0] <= u_ramp_down)\n",
    "    for (p_curr, p_next) in zip(r.production, r.production[1:]):\n",
    "        ucpm.add_constraint(p_next - p_curr <= u_ramp_up)\n",
    "        ucpm.add_constraint(p_curr - p_next <= u_ramp_down)\n",
    "\n",
    "ucpm.print_information()"
   ]
  },
  {
   "cell_type": "markdown",
   "metadata": {},
   "source": [
    "#### Turn on / turn off\n",
    "The following constraints determine when a unit is turned on or off.\n",
    "\n",
    "Use the same *pandas* *groupby* operation as in the previous constraint to iterate over the sequence of decision variables for each unit."
   ]
  },
  {
   "cell_type": "code",
   "execution_count": null,
   "metadata": {},
   "outputs": [],
   "source": [
    "# Turn_on, turn_off\n",
    "# Use groupby operation to process each unit\n",
    "for unit, r in df_decision_vars.groupby(level='units'):\n",
    "    for (in_use_curr, in_use_next, turn_on_next, turn_off_next) in zip(r.in_use, r.in_use[1:], r.turn_on[1:], r.turn_off[1:]):\n",
    "        # if unit is off at time t and on at time t+1, then it was turned on at time t+1\n",
    "        ucpm.add_constraint(in_use_next - in_use_curr <= turn_on_next)\n",
    "\n",
    "        # if unit is on at time t and time t+1, then it was not turned on at time t+1\n",
    "        # mdl.add_constraint(in_use_next + in_use_curr + turn_on_next <= 2)\n",
    "\n",
    "        # if unit is on at time t and off at time t+1, then it was turned off at time t+1\n",
    "        ucpm.add_constraint(in_use_curr - in_use_next + turn_on_next == turn_off_next)\n",
    "ucpm.print_information()        "
   ]
  },
  {
   "cell_type": "markdown",
   "metadata": {},
   "source": [
    "#### Minimum uptime and downtime\n",
    "When a unit is turned on, it cannot be turned off before a *minimum uptime*. Conversely, when a unit is turned off, it cannot be turned on again before a *minimum downtime*.\n",
    "\n",
    "Again, let's use the same *pandas* *groupby* operation to implement this constraint for each unit."
   ]
  },
  {
   "cell_type": "code",
   "execution_count": null,
   "metadata": {},
   "outputs": [],
   "source": [
    "# Minimum uptime, downtime\n",
    "for unit, r in df_decision_vars.groupby(level='units'):\n",
    "    min_uptime   = df_up.min_uptime[unit]\n",
    "    min_downtime = df_up.min_downtime[unit]\n",
    "    # Note that r.turn_on and r.in_use are Series that can be indexed as arrays (ie: first item index = 0)\n",
    "    for t in range(min_uptime, nb_periods):\n",
    "        ctname = \"min_up_{0!s}_{1}\".format(*r.index[t])\n",
    "        ucpm.add_constraint(ucpm.sum(r.turn_on[(t - min_uptime) + 1:t + 1]) <= r.in_use[t], ctname)\n",
    "\n",
    "    for t in range(min_downtime, nb_periods):\n",
    "        ctname = \"min_down_{0!s}_{1}\".format(*r.index[t])\n",
    "        ucpm.add_constraint(ucpm.sum(r.turn_off[(t - min_downtime) + 1:t + 1]) <= 1 - r.in_use[t], ctname)\n"
   ]
  },
  {
   "cell_type": "markdown",
   "metadata": {},
   "source": [
    "#### Demand constraint\n",
    "Total production level must be equal to or higher than demand on any period.\n",
    "\n",
    "This time, the *pandas* operation *groupby* is performed on *\"periods\"* since you have to iterate over the list of all units for each period."
   ]
  },
  {
   "cell_type": "code",
   "execution_count": null,
   "metadata": {},
   "outputs": [],
   "source": [
    "# Enforcing demand\n",
    "# use a >= here to be more robust, \n",
    "# objective will ensure efficient production\n",
    "for period, r in df_decision_vars.groupby(level='periods'):\n",
    "    total_demand = demand[period]\n",
    "    ctname = \"ct_meet_demand_%d\" % period\n",
    "    ucpm.add_constraint(ucpm.sum(r.production) >= total_demand, ctname) "
   ]
  },
  {
   "cell_type": "markdown",
   "metadata": {},
   "source": [
    "### Express the objective\n",
    "\n",
    "Operating the different units incurs different costs: fixed cost, variable cost, startup cost, co2 cost.\n",
    "\n",
    "In a first step, define the objective as a non-weighted sum of all these costs.\n",
    "\n",
    "The following *pandas* *join* operation groups all the data to calculate the objective in a single DataFrame."
   ]
  },
  {
   "cell_type": "code",
   "execution_count": null,
   "metadata": {},
   "outputs": [],
   "source": [
    "# Create a join between 'df_decision_vars' and 'df_up' Data Frames based on common index ids (ie: 'units')\n",
    "# In 'df_up', one keeps only relevant columns: 'fixed_cost', 'variable_cost', 'start_cost' and 'co2_cost'\n",
    "df_join_obj = df_decision_vars.join(\n",
    "    df_up[['fixed_cost', 'variable_cost', 'start_cost', 'co2_cost']], how='inner')\n",
    "\n",
    "# Display first few rows of joined Data Frame\n",
    "df_join_obj.head()"
   ]
  },
  {
   "cell_type": "code",
   "execution_count": null,
   "metadata": {},
   "outputs": [],
   "source": [
    "# objective\n",
    "total_fixed_cost = ucpm.sum(df_join_obj.in_use * df_join_obj.fixed_cost)\n",
    "total_variable_cost = ucpm.sum(df_join_obj.production * df_join_obj.variable_cost)\n",
    "total_startup_cost = ucpm.sum(df_join_obj.turn_on * df_join_obj.start_cost)\n",
    "total_co2_cost = ucpm.sum(df_join_obj.production * df_join_obj.co2_cost)\n",
    "total_economic_cost = total_fixed_cost + total_variable_cost + total_startup_cost\n",
    "\n",
    "total_nb_used = ucpm.sum(df_decision_vars.in_use)\n",
    "total_nb_starts = ucpm.sum(df_decision_vars.turn_on)\n",
    "\n",
    "# store expression kpis to retrieve them later.\n",
    "ucpm.add_kpi(total_fixed_cost   , \"Total Fixed Cost\")\n",
    "ucpm.add_kpi(total_variable_cost, \"Total Variable Cost\")\n",
    "ucpm.add_kpi(total_startup_cost , \"Total Startup Cost\")\n",
    "ucpm.add_kpi(total_economic_cost, \"Total Economic Cost\")\n",
    "ucpm.add_kpi(total_co2_cost     , \"Total CO2 Cost\")\n",
    "ucpm.add_kpi(total_nb_used, \"Total #used\")\n",
    "ucpm.add_kpi(total_nb_starts, \"Total #starts\")\n",
    "\n",
    "# minimize sum of all costs\n",
    "ucpm.minimize(total_fixed_cost + total_variable_cost + total_startup_cost + total_co2_cost)"
   ]
  },
  {
   "cell_type": "markdown",
   "metadata": {},
   "source": [
    "## Solve with Decision Optimization\n",
    "\n",
    "Depending on the size of the problem, the solve stage might fail and require the Commercial Edition of CPLEX engines, which is included in the premium environments in Watson Studio."
   ]
  },
  {
   "cell_type": "code",
   "execution_count": null,
   "metadata": {},
   "outputs": [],
   "source": [
    "ucpm.print_information()"
   ]
  },
  {
   "cell_type": "code",
   "execution_count": null,
   "metadata": {},
   "outputs": [],
   "source": [
    "assert ucpm.solve(), \"!!! Solve of the model fails\""
   ]
  },
  {
   "cell_type": "code",
   "execution_count": null,
   "metadata": {},
   "outputs": [],
   "source": [
    "ucpm.report()"
   ]
  },
  {
   "cell_type": "markdown",
   "metadata": {},
   "source": [
    "### Analyze the solution\n",
    "\n",
    "Now store the results in a new *pandas* DataFrame.\n",
    "\n",
    "For convenience, the different figures are organized into pivot tables with *periods* as row index and *units* as columns. The *pandas* *unstack* operation does this for you."
   ]
  },
  {
   "cell_type": "code",
   "execution_count": null,
   "metadata": {
    "scrolled": true
   },
   "outputs": [],
   "source": [
    "df_prods = df_decision_vars.production.apply(lambda v: max(0, v.solution_value)).unstack(level='units')\n",
    "df_used = df_decision_vars.in_use.apply(lambda v: max(0, v.solution_value)).unstack(level='units')\n",
    "df_started = df_decision_vars.turn_on.apply(lambda v: max(0, v.solution_value)).unstack(level='units')\n",
    "\n",
    "# Display the first few rows of the pivoted 'production' data\n",
    "df_prods.head()"
   ]
  },
  {
   "cell_type": "markdown",
   "metadata": {},
   "source": [
    "####  Production per Unit "
   ]
  },
  {
   "cell_type": "code",
   "execution_count": null,
   "metadata": {},
   "outputs": [],
   "source": [
    "df_prods.plot.area()"
   ]
  },
  {
   "cell_type": "markdown",
   "metadata": {
    "collapsed": true
   },
   "source": [
    "#### Reserve per Unit\n",
    "\n",
    "From these raw DataFrame results, you can compute _derived_ results.\n",
    "For example, for a given unit and period, the _reserve_ r(u,t) is defined as\n",
    "the unit's maximum generation minus the current production."
   ]
  },
  {
   "cell_type": "code",
   "execution_count": null,
   "metadata": {},
   "outputs": [],
   "source": [
    "df_spins = DataFrame(df_up.max_gen.to_dict(), index=periods) - df_prods\n",
    "\n",
    "# Display the first few rows of the 'df_spins' Data Frame, representing the reserve for each unit, over time\n",
    "df_spins.head()"
   ]
  },
  {
   "cell_type": "markdown",
   "metadata": {},
   "source": [
    "Now plot the evolution of the reserve for the *\"coal2\"* unit:"
   ]
  },
  {
   "cell_type": "code",
   "execution_count": null,
   "metadata": {},
   "outputs": [],
   "source": [
    "df_spins.coal2.plot(style='o-', ylim=[0,200])"
   ]
  },
  {
   "cell_type": "markdown",
   "metadata": {},
   "source": [
    "Next, sum all unit reserves to compute the _global_ spinning reserve.\n",
    "Sum all columns of the DataFrame to get an aggregated time series. Use the *pandas* **sum** method\n",
    "with axis=1 (for rows)."
   ]
  },
  {
   "cell_type": "code",
   "execution_count": null,
   "metadata": {},
   "outputs": [],
   "source": [
    "global_spin = df_spins.sum(axis=1)\n",
    "global_spin.plot(title=\"Global spinning reserve\")"
   ]
  },
  {
   "cell_type": "markdown",
   "metadata": {},
   "source": [
    "#### Number of plants online by period\n",
    "\n",
    "The total number of plants online at each period t is the sum of in_use variables for all units at this period.\n",
    "Again, use the *pandas* sum with axis=1 (for rows) to sum over all units."
   ]
  },
  {
   "cell_type": "code",
   "execution_count": null,
   "metadata": {},
   "outputs": [],
   "source": [
    "df_used.sum(axis=1).plot(title=\"Number of plants online\", kind='line', style=\"r-\", ylim=[0, len(units)])"
   ]
  },
  {
   "cell_type": "markdown",
   "metadata": {},
   "source": [
    "#### Costs by period"
   ]
  },
  {
   "cell_type": "code",
   "execution_count": null,
   "metadata": {},
   "outputs": [],
   "source": [
    "# extract unit cost data\n",
    "all_costs = [\"fixed_cost\", \"variable_cost\", \"start_cost\", \"co2_cost\"]\n",
    "df_costs = df_up[all_costs]\n",
    "\n",
    "running_cost = df_used * df_costs.fixed_cost\n",
    "startup_cost = df_started * df_costs.start_cost\n",
    "variable_cost = df_prods * df_costs.variable_cost\n",
    "co2_cost = df_prods * df_costs.co2_cost\n",
    "total_cost = running_cost + startup_cost + variable_cost + co2_cost\n",
    "\n",
    "running_cost.sum(axis=1).plot(style='g')\n",
    "startup_cost.sum(axis=1).plot(style='r')\n",
    "variable_cost.sum(axis=1).plot(style='b',logy=True)\n",
    "co2_cost.sum(axis=1).plot(style='k')"
   ]
  },
  {
   "cell_type": "markdown",
   "metadata": {},
   "source": [
    "#### Cost breakdown by unit and by energy"
   ]
  },
  {
   "cell_type": "code",
   "execution_count": null,
   "metadata": {},
   "outputs": [],
   "source": [
    "# Calculate sum by column (by default, axis = 0) to get total cost for each unit\n",
    "cost_by_unit = total_cost.sum()\n",
    "\n",
    "# Create a dictionary storing energy type for each unit, from the corresponding pandas Series\n",
    "unit_energies = df_up.energy.to_dict()\n",
    "\n",
    "# Group cost by unit type and plot total cost by energy type in a pie chart\n",
    "gb = cost_by_unit.groupby(unit_energies)\n",
    "# gb.sum().plot(kind='pie')\n",
    "gb.sum().plot.pie(figsize=(6, 6),autopct='%.2f',fontsize=15)\n",
    "\n",
    "plt.title('total cost by energy type', bbox={'facecolor':'0.8', 'pad':5})"
   ]
  },
  {
   "cell_type": "markdown",
   "metadata": {},
   "source": [
    "## Perform what-if analysis\n",
    "\n",
    "Apart from solving one instance and getting the optimal solution, Decision Optimization allows you to easily perform what-if analysis, running different **scenarios** with different data and/or models.\n",
    " \n",
    "### Example of arbitration between ecological and economic cost\n",
    "\n",
    "Economic cost and ecological (CO<sub>2</sub>) cost are competing objectives: to reduce the economic cost, you need to use a more dirty generator which produces more CO2.\n",
    "\n",
    "In the previous section, you minimized the raw sum of economic cost and CO<sub>2</sub> cost, without weights."
   ]
  },
  {
   "cell_type": "markdown",
   "metadata": {},
   "source": [
    "#### Optimal solution with respect to the ecological cost\n",
    "\n",
    "But how much further could you reduce CO<sub>2</sub> emissions, if economic cost was not important? \n",
    "To find this out, solve again with CO<sub>2</sub> cost as the only objective.\n"
   ]
  },
  {
   "cell_type": "code",
   "execution_count": null,
   "metadata": {},
   "outputs": [],
   "source": [
    "# first retrieve the co2 and economic kpis\n",
    "co2_kpi = ucpm.kpi_by_name(\"co2\") # does a name matching\n",
    "eco_kpi = ucpm.kpi_by_name(\"eco\")\n",
    "prev_co2_cost = co2_kpi.compute()\n",
    "prev_eco_cost = eco_kpi.compute()\n",
    "print(\"* current CO2 cost is: {}\".format(prev_co2_cost))\n",
    "print(\"* current $$$ cost is: {}\".format(prev_eco_cost))\n",
    "# now set the objective\n",
    "old_objective = ucpm.objective_expr # save it\n",
    "ucpm.minimize(co2_kpi.as_expression())"
   ]
  },
  {
   "cell_type": "code",
   "execution_count": null,
   "metadata": {},
   "outputs": [],
   "source": [
    "assert ucpm.solve(), \"Solve failed\""
   ]
  },
  {
   "cell_type": "code",
   "execution_count": null,
   "metadata": {},
   "outputs": [],
   "source": [
    "min_co2_cost = ucpm.objective_value\n",
    "min_co2_eco_cost = eco_kpi.compute()\n",
    "print(\"* absolute minimum for CO2 cost is {}\".format(min_co2_cost))\n",
    "print(\"* at this point $$$ cost is {}\".format(min_co2_eco_cost))"
   ]
  },
  {
   "cell_type": "markdown",
   "metadata": {},
   "source": [
    "As expected, you get a significantly lower CO<sub>2</sub> cost when minimized alone, at the price of a higher economic cost.\n",
    "\n",
    "#### Optimal solution with respect to the economic cost\n",
    "\n",
    "You can do a similar analysis for economic cost to estimate the absolute minimum of\n",
    "the economic cost, regardless of CO<sub>2</sub> cost."
   ]
  },
  {
   "cell_type": "code",
   "execution_count": null,
   "metadata": {},
   "outputs": [],
   "source": [
    "# minimize only economic cost\n",
    "ucpm.minimize(eco_kpi.as_expression())"
   ]
  },
  {
   "cell_type": "code",
   "execution_count": null,
   "metadata": {},
   "outputs": [],
   "source": [
    "assert ucpm.solve(), \"Solve failed\""
   ]
  },
  {
   "cell_type": "code",
   "execution_count": null,
   "metadata": {},
   "outputs": [],
   "source": [
    "min_eco_cost = ucpm.objective_value\n",
    "min_eco_co2_cost = co2_kpi.compute()\n",
    "print(\"* absolute minimum for $$$ cost is {}\".format(min_eco_cost))\n",
    "print(\"* at this point CO2 cost is {}\".format(min_eco_co2_cost))"
   ]
  },
  {
   "cell_type": "markdown",
   "metadata": {},
   "source": [
    "Again, the absolute minimum for economic cost is lower than the figure you obtained in the original model where you minimized the _sum_ of economic and CO<sub>2</sub> costs, but here the CO<sub>2</sub> is significantly increased.\n",
    "\n",
    "#### Pareto optimum\n",
    "\n",
    "But what happens in between these two extreme points?\n",
    "\n",
    "To investigate this, divide the interval of CO<sub>2</sub> cost values in smaller intervals, add an upper limit on CO<sub>2</sub>,\n",
    "and minimize economic cost with this constraint. This will give you a Pareto optimal point with at most this CO<sub>2</sub> value.\n",
    "\n",
    "To avoid adding many constraints, add only one constraint with an extra variable, and change only the upper bound\n",
    "of this CO<sub>2</sub> limit variable between successive solves.\n",
    "\n",
    "Then iterate (with a fixed number of iterations) and collect the cost values. "
   ]
  },
  {
   "cell_type": "code",
   "execution_count": null,
   "metadata": {},
   "outputs": [],
   "source": [
    "# add extra variable\n",
    "co2_limit = ucpm.continuous_var(lb=0)\n",
    "# add a named constraint which limits total co2 cost to this variable:\n",
    "max_co2_ctname = \"ct_max_co2\"\n",
    "co2_ct = ucpm.add_constraint(co2_kpi.as_expression() <= co2_limit, max_co2_ctname)     "
   ]
  },
  {
   "cell_type": "code",
   "execution_count": null,
   "metadata": {},
   "outputs": [],
   "source": [
    "co2min = min_co2_cost\n",
    "co2max = min_eco_co2_cost\n",
    "def explore_ucp(nb_iters, eps=1e-5):\n",
    "\n",
    "    step = (co2max-co2min)/float(nb_iters)\n",
    "    co2_ubs = [co2min + k * step for k in range(nb_iters+1)]\n",
    "\n",
    "    # ensure eco minimized\n",
    "    ucpm.minimize(eco_kpi.as_expression())\n",
    "    all_co2s = []\n",
    "    all_ecos = []\n",
    "    for k in range(nb_iters+1):\n",
    "        co2_ub = co2min + k * step\n",
    "        print(\" iteration #{0} co2_ub={1}\".format(k, co2_ub))\n",
    "        co2_limit.ub = co2_ub + eps\n",
    "        assert ucpm.solve() is not None, \"Solve failed\"\n",
    "        cur_co2 = co2_kpi.compute()\n",
    "        cur_eco = eco_kpi.compute()\n",
    "        all_co2s.append(cur_co2)\n",
    "        all_ecos.append(cur_eco)\n",
    "    return all_co2s, all_ecos"
   ]
  },
  {
   "cell_type": "code",
   "execution_count": null,
   "metadata": {},
   "outputs": [],
   "source": [
    "#explore the co2/eco frontier in 50 points\n",
    "co2s, ecos = explore_ucp(nb_iters=50)"
   ]
  },
  {
   "cell_type": "code",
   "execution_count": null,
   "metadata": {},
   "outputs": [],
   "source": [
    "# normalize all values by dividing by their maximum\n",
    "eco_max = min_co2_eco_cost\n",
    "nxs = [c / co2max for c in co2s]\n",
    "nys = [e / eco_max for e in ecos]\n",
    "# plot a scatter chart of x=co2, y=costs\n",
    "plt.scatter(nxs, nys)\n",
    "# plot as one point\n",
    "plt.plot(prev_co2_cost/co2max, prev_eco_cost/eco_max, \"rH\", markersize=16)\n",
    "plt.xlabel(\"co2 cost\")\n",
    "plt.ylabel(\"economic cost\")\n",
    "plt.show()"
   ]
  },
  {
   "cell_type": "markdown",
   "metadata": {
    "collapsed": true
   },
   "source": [
    "This figure demonstrates that the result obtained in the initial model clearly favored\n",
    "economic cost over CO<sub>2</sub> cost: CO<sub>2</sub> cost is well above 95% of its maximum value."
   ]
  },
  {
   "cell_type": "markdown",
   "metadata": {},
   "source": [
    "## Summary\n",
    "\n",
    "You have learned how to set up, formulate and solve an optimization model using Decision Optimization in Watson Studio."
   ]
  },
  {
   "cell_type": "markdown",
   "metadata": {},
   "source": [
    "#### References\n",
    "* <a href=\"https://rawgit.com/IBMDecisionOptimization/docplex-doc/master/docs/index.html\" target=\"_blank\" rel=\"noopener noreferrer\">Decision Optimization CPLEX Modeling for Python documentation</a>\n",
    "* <a href=\"https://www.ibm.com/docs/en/cloud-paks/cp-data/4.6.x\" target=\"_blank\" rel=\"noopener noreferrer\">IBM Cloud Pak for Data documentation</a>\n"
   ]
  },
  {
   "attachments": {},
   "cell_type": "markdown",
   "metadata": {},
   "source": [
    "<hr>\n",
    "Copyright © 2017-2023. This notebook and its source code are released under the terms of the MIT License."
   ]
  },
  {
   "cell_type": "markdown",
   "metadata": {},
   "source": [
    "<div style=\"background:#F5F7FA; height:110px; padding: 2em; font-size:14px;\">\n",
    "<span style=\"font-size:18px;color:#152935;\">Love this notebook? </span>\n",
    "<span style=\"font-size:15px;color:#152935;float:right;margin-right:40px;\">Don't have an account yet?</span><br>\n",
    "<span style=\"color:#5A6872;\">Share it with your colleagues and help them discover the power of Watson Studio!</span>\n",
    "<span style=\"border: 1px solid #3d70b2;padding:8px;float:right;margin-right:40px; color:#3d70b2;\"><a href=\"https://ibm.co/wsnotebooks\" target=\"_blank\" style=\"color: #3d70b2;text-decoration: none;\">Sign Up</a></span><br>\n",
    "</div>"
   ]
  }
 ],
 "metadata": {
  "kernelspec": {
   "display_name": "Python 3.10",
   "language": "python",
   "name": "python3"
  },
  "language_info": {
   "codemirror_mode": {
    "name": "ipython",
    "version": 3
   },
   "file_extension": ".py",
   "mimetype": "text/x-python",
   "name": "python",
   "nbconvert_exporter": "python",
   "pygments_lexer": "ipython3",
   "version": "3.10.6"
  }
 },
 "nbformat": 4,
 "nbformat_minor": 1
}
